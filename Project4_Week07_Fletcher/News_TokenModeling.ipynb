{
 "cells": [
  {
   "cell_type": "markdown",
   "metadata": {},
   "source": [
    "## Token modeling\n",
    "(Jupyter Notebook 2 of 2)"
   ]
  },
  {
   "cell_type": "markdown",
   "metadata": {},
   "source": [
    "#### ------ Section 4:  Create topics with latent dirichlet allocation -----------"
   ]
  },
  {
   "cell_type": "code",
   "execution_count": 249,
   "metadata": {},
   "outputs": [],
   "source": [
    "import numpy as np\n",
    "import pandas as pd\n",
    "import re\n",
    "\n",
    "import spacy\n",
    "from spacy.lang.en import English\n",
    "# nlp = spacy.load('en_core_web_md')\n",
    "\n",
    "import nltk\n",
    "from gensim.models import ldamodel\n",
    "\n",
    "pd.set_option('max_colwidth',80)\n",
    "\n",
    "import matplotlib.pyplot as plt\n",
    "%matplotlib inline\n",
    "%config InlineBackend.figure_format = 'png'"
   ]
  },
  {
   "cell_type": "code",
   "execution_count": 239,
   "metadata": {},
   "outputs": [],
   "source": [
    "import NLP_Analysis\n",
    "import importlib\n",
    "importlib.reload(NLP_Analysis)\n",
    "from NLP_Analysis import tokenize, make_dictionary\n",
    "from NLP_Analysis import make_tftable, make_ldatable, classification_score"
   ]
  },
  {
   "cell_type": "code",
   "execution_count": 27,
   "metadata": {},
   "outputs": [],
   "source": [
    "# Reload the cleaned up text data and relevance/positivity labels #\n",
    "import pickle\n",
    "\n",
    "with open('data/clean_articles.pkl', 'rb') as picklefile: \n",
    "    Ta = pickle.load(picklefile)\n",
    "with open('data/clean_headlines.pkl', 'rb') as picklefile: \n",
    "    Th = pickle.load(picklefile)\n",
    "with open('data/y_relevance.pkl', 'rb') as picklefile: \n",
    "    y_relevance = pickle.load(picklefile)\n",
    "with open('data/y_positivity.pkl', 'rb') as picklefile: \n",
    "    y_positivity = pickle.load(picklefile)"
   ]
  },
  {
   "cell_type": "code",
   "execution_count": 217,
   "metadata": {},
   "outputs": [],
   "source": [
    "# Split the data into training and test sets #\n",
    "# Note that the articles (Ta) and headlines (Th) splits are from matching\n",
    "# original documents because 'random_state' arguments are the same. Also,\n",
    "# using relevance in one and positivity in the other allows both sets of\n",
    "# labels to be split. (A rigorous test showed they do match up, row by\n",
    "# row, after the split.)\n",
    "from sklearn.model_selection import train_test_split, GridSearchCV\n",
    "\n",
    "Ta_train, Ta_test, yr_train, yr_test = train_test_split(Ta, y_relevance, \\\n",
    "    test_size=0.25, stratify = y_relevance, random_state=42)\n",
    "Th_train, Th_test, yp_train, yp_test = train_test_split(Th, y_positivity, \\\n",
    "    test_size=0.25, stratify = y_relevance, random_state=42)\n",
    "\n",
    "yr_train[yr_train=='not sure'] = 'no'  # make the labels integers\n",
    "yr_test[yr_test=='not sure'] = 'no'\n",
    "yr_train = [1 if x=='yes' else 0 for x in yr_train]\n",
    "yr_test = [1 if x=='yes' else 0 for x in yr_test]"
   ]
  },
  {
   "cell_type": "code",
   "execution_count": 33,
   "metadata": {},
   "outputs": [
    {
     "name": "stdout",
     "output_type": "stream",
     "text": [
      "500, \n",
      "1000, \n",
      "1500, \n",
      "2000, \n",
      "2500, \n",
      "3000, \n",
      "3500, \n",
      "4000, \n",
      "4500, \n",
      "5000, \n",
      "5500, \n",
      "6000, \n",
      "\n",
      "Dictionary pared from 7827 to 2160 entries.\n",
      "Corpus of 6000 documents created.\n"
     ]
    }
   ],
   "source": [
    "# Create headline corpus for LDA modeling, using only training data #\n",
    "en_stop = set(nltk.corpus.stopwords.words('english'))\n",
    "en_stop.add('%')                # percentages are handled separately\n",
    "\n",
    "TAGS = ['NOUN','VERB','ADJ','ADV','ORG']\n",
    "\n",
    "dict_headlines, alltokens = \\\n",
    "    make_dictionary(Th_train, nlp, en_stop, TAGS)\n",
    "dictsize1 = len(dict_headlines)\n",
    "dict_headlines.filter_extremes(no_below=3, no_above=0.8, keep_n=10000)\n",
    "dictsize2 = len(dict_headlines)\n",
    "print(f'Dictionary pared from {dictsize1} to {dictsize2} entries.')\n",
    "\n",
    "corpus_headlines = [dict_headlines.doc2bow(tokens) for tokens in alltokens]\n",
    "print(f'Corpus of {len(corpus_headlines)} documents created.')"
   ]
  },
  {
   "cell_type": "code",
   "execution_count": 71,
   "metadata": {},
   "outputs": [
    {
     "data": {
      "text/plain": [
       "[(2,\n",
       "  '0.027*\"close\" + 0.027*\"market\" + 0.025*\"seek\" + 0.024*\"back\" + 0.023*\"get\" + 0.021*\"review\" + 0.018*\"buy\" + 0.018*\"outlook\" + 0.016*\"china\" + 0.015*\"investor\"'),\n",
       " (12,\n",
       "  '0.064*\"deficit\" + 0.063*\"trade\" + 0.031*\"news\" + 0.026*\"MONEY\" + 0.020*\"budget\" + 0.018*\"gap\" + 0.016*\"profits\" + 0.016*\"target\" + 0.015*\"keep\" + 0.015*\"export\"')]"
      ]
     },
     "execution_count": 71,
     "metadata": {},
     "output_type": "execute_result"
    }
   ],
   "source": [
    "# Run the LDA model over the corpus. My golly, it actually works. #\n",
    "N_TOPIC = 15\n",
    "lda_headlines = ldamodel.LdaModel(corpus=corpus_headlines,\n",
    "        num_topics=N_TOPIC, minimum_probability=0.01,\n",
    "        id2word=dict_headlines, passes=10)\n",
    "\n",
    "lda_headlines.print_topics(num_topics=2, num_words=10)"
   ]
  },
  {
   "cell_type": "code",
   "execution_count": 150,
   "metadata": {},
   "outputs": [
    {
     "name": "stdout",
     "output_type": "stream",
     "text": [
      "[(0, 0.011111111), (1, 0.0111111915), (2, 0.011111111), (3, 0.011111114), (4, 0.011111111), (5, 0.46336082), (6, 0.011111122), (7, 0.011111111), (8, 0.3921946), (9, 0.011111111), (10, 0.011111115), (11, 0.011111111), (12, 0.011111122), (13, 0.011111118), (14, 0.011111113)]\n",
      "Gold Rises Slightly on Bargain Interest\n"
     ]
    }
   ],
   "source": [
    "ldadocs_headlines = [doc for doc in lda_headlines[corpus_headlines]]\n",
    "print(ldadocs_headlines[312])\n",
    "print(Th_train[312])"
   ]
  },
  {
   "cell_type": "code",
   "execution_count": 259,
   "metadata": {},
   "outputs": [
    {
     "data": {
      "text/plain": [
       "'0.027*\"interest\" + 0.026*\"home\" + 0.026*\"sales\" + 0.025*\"see\" + 0.020*\"rise\" + 0.019*\"rates\" + 0.018*\"fear\" + 0.017*\"year\" + 0.015*\"house\" + 0.015*\"signal\" + 0.013*\"gain\" + 0.013*\"new\" + 0.013*\"fall\" + 0.013*\"inflation\" + 0.013*\"lead\"'"
      ]
     },
     "execution_count": 259,
     "metadata": {},
     "output_type": "execute_result"
    }
   ],
   "source": [
    "lda_headlines.print_topic(8, topn=15)"
   ]
  },
  {
   "cell_type": "code",
   "execution_count": 69,
   "metadata": {},
   "outputs": [
    {
     "name": "stdout",
     "output_type": "stream",
     "text": [
      "500, \n",
      "1000, \n",
      "1500, \n",
      "2000, \n",
      "2500, \n",
      "3000, \n",
      "3500, \n",
      "4000, \n",
      "4500, \n",
      "5000, \n",
      "5500, \n",
      "6000, \n",
      "\n",
      "Dictionary pared from 2160 to 2160 entries.\n",
      "Corpus of 6000 documents created.\n"
     ]
    }
   ],
   "source": [
    "# Repeat for article text training data #\n",
    "en_stop = set(nltk.corpus.stopwords.words('english'))\n",
    "en_stop.add('%')                # percentages are handled separately\n",
    "\n",
    "TAGS = ['NOUN','VERB','ADJ','ADV','ORG','GPE']  # add location entities\n",
    "\n",
    "dict_articles, alltokens = \\\n",
    "    make_dictionary(Ta_train, nlp, en_stop, TAGS)\n",
    "dictsize1 = len(dict_articles)\n",
    "dict_articles.filter_extremes(no_below=3, no_above=0.8, keep_n=10000)\n",
    "dictsize2 = len(dict_articles)\n",
    "print(f'Dictionary pared from {dictsize1} to {dictsize2} entries.')\n",
    "\n",
    "corpus_articles = [dict_articles.doc2bow(tokens) for tokens in alltokens]\n",
    "print(f'Corpus of {len(corpus_articles)} documents created.')"
   ]
  },
  {
   "cell_type": "code",
   "execution_count": 70,
   "metadata": {},
   "outputs": [],
   "source": [
    "# Run the LDA model over the corpus. My golly, it actually works. #\n",
    "N_TOPIC = 15\n",
    "lda_articles = ldamodel.LdaModel(corpus=corpus_articles,\n",
    "        num_topics=N_TOPIC, minimum_probability=0.01,\n",
    "        id2word=dict_articles, passes=10)\n",
    "\n",
    "lda_articles.print_topics(num_topics=2, num_words=10)"
   ]
  },
  {
   "cell_type": "code",
   "execution_count": 152,
   "metadata": {},
   "outputs": [],
   "source": [
    "ldadocs_articles = [doc for doc in lda_articles[corpus_articles]]\n",
    "# print(ldadocs_articles[812])\n",
    "# print(Ta_train[812])"
   ]
  },
  {
   "cell_type": "code",
   "execution_count": 126,
   "metadata": {},
   "outputs": [
    {
     "data": {
      "text/plain": [
       "'0.016*\"president\" + 0.014*\"say\" + 0.012*\"bush\" + 0.008*\"republican\" + 0.008*\"political\" + 0.007*\"economic\" + 0.007*\"campaign\" + 0.006*\"make\" + 0.006*\"state\" + 0.006*\"election\" + 0.006*\"administration\" + 0.005*\"party\" + 0.005*\"democrat\" + 0.005*\"democratic\" + 0.005*\"get\"'"
      ]
     },
     "execution_count": 126,
     "metadata": {},
     "output_type": "execute_result"
    }
   ],
   "source": [
    "lda_articles.print_topic(5, topn=15)"
   ]
  },
  {
   "cell_type": "markdown",
   "metadata": {},
   "source": [
    "#### ------ Section 5:  Create classification and regression models -----------"
   ]
  },
  {
   "cell_type": "code",
   "execution_count": 153,
   "metadata": {},
   "outputs": [
    {
     "data": {
      "text/html": [
       "<div>\n",
       "<style scoped>\n",
       "    .dataframe tbody tr th:only-of-type {\n",
       "        vertical-align: middle;\n",
       "    }\n",
       "\n",
       "    .dataframe tbody tr th {\n",
       "        vertical-align: top;\n",
       "    }\n",
       "\n",
       "    .dataframe thead th {\n",
       "        text-align: right;\n",
       "    }\n",
       "</style>\n",
       "<table border=\"1\" class=\"dataframe\">\n",
       "  <thead>\n",
       "    <tr style=\"text-align: right;\">\n",
       "      <th></th>\n",
       "      <th>0</th>\n",
       "      <th>1</th>\n",
       "      <th>2</th>\n",
       "      <th>3</th>\n",
       "      <th>4</th>\n",
       "      <th>5</th>\n",
       "      <th>6</th>\n",
       "      <th>7</th>\n",
       "      <th>8</th>\n",
       "      <th>9</th>\n",
       "      <th>10</th>\n",
       "      <th>11</th>\n",
       "      <th>12</th>\n",
       "      <th>13</th>\n",
       "      <th>14</th>\n",
       "    </tr>\n",
       "  </thead>\n",
       "  <tbody>\n",
       "    <tr>\n",
       "      <th>0</th>\n",
       "      <td>0.000000</td>\n",
       "      <td>0.000000</td>\n",
       "      <td>0.000000</td>\n",
       "      <td>0.000000</td>\n",
       "      <td>0.520998</td>\n",
       "      <td>0.000000</td>\n",
       "      <td>0.000000</td>\n",
       "      <td>0.000000</td>\n",
       "      <td>0.000000</td>\n",
       "      <td>0.000000</td>\n",
       "      <td>0.000000</td>\n",
       "      <td>0.240099</td>\n",
       "      <td>0.138903</td>\n",
       "      <td>0.000000</td>\n",
       "      <td>0.000000</td>\n",
       "    </tr>\n",
       "    <tr>\n",
       "      <th>1</th>\n",
       "      <td>0.000000</td>\n",
       "      <td>0.000000</td>\n",
       "      <td>0.000000</td>\n",
       "      <td>0.211230</td>\n",
       "      <td>0.000000</td>\n",
       "      <td>0.000000</td>\n",
       "      <td>0.000000</td>\n",
       "      <td>0.000000</td>\n",
       "      <td>0.000000</td>\n",
       "      <td>0.000000</td>\n",
       "      <td>0.702103</td>\n",
       "      <td>0.000000</td>\n",
       "      <td>0.000000</td>\n",
       "      <td>0.000000</td>\n",
       "      <td>0.000000</td>\n",
       "    </tr>\n",
       "    <tr>\n",
       "      <th>2</th>\n",
       "      <td>0.011111</td>\n",
       "      <td>0.011111</td>\n",
       "      <td>0.011111</td>\n",
       "      <td>0.011111</td>\n",
       "      <td>0.011111</td>\n",
       "      <td>0.011111</td>\n",
       "      <td>0.844444</td>\n",
       "      <td>0.011111</td>\n",
       "      <td>0.011111</td>\n",
       "      <td>0.011111</td>\n",
       "      <td>0.011111</td>\n",
       "      <td>0.011111</td>\n",
       "      <td>0.011111</td>\n",
       "      <td>0.011111</td>\n",
       "      <td>0.011111</td>\n",
       "    </tr>\n",
       "    <tr>\n",
       "      <th>3</th>\n",
       "      <td>0.011111</td>\n",
       "      <td>0.531672</td>\n",
       "      <td>0.011111</td>\n",
       "      <td>0.011111</td>\n",
       "      <td>0.011111</td>\n",
       "      <td>0.011111</td>\n",
       "      <td>0.011111</td>\n",
       "      <td>0.011111</td>\n",
       "      <td>0.011111</td>\n",
       "      <td>0.323883</td>\n",
       "      <td>0.011111</td>\n",
       "      <td>0.011111</td>\n",
       "      <td>0.011111</td>\n",
       "      <td>0.011111</td>\n",
       "      <td>0.011111</td>\n",
       "    </tr>\n",
       "    <tr>\n",
       "      <th>4</th>\n",
       "      <td>0.000000</td>\n",
       "      <td>0.000000</td>\n",
       "      <td>0.206367</td>\n",
       "      <td>0.000000</td>\n",
       "      <td>0.000000</td>\n",
       "      <td>0.368612</td>\n",
       "      <td>0.000000</td>\n",
       "      <td>0.000000</td>\n",
       "      <td>0.000000</td>\n",
       "      <td>0.000000</td>\n",
       "      <td>0.000000</td>\n",
       "      <td>0.000000</td>\n",
       "      <td>0.000000</td>\n",
       "      <td>0.286489</td>\n",
       "      <td>0.086152</td>\n",
       "    </tr>\n",
       "  </tbody>\n",
       "</table>\n",
       "</div>"
      ],
      "text/plain": [
       "         0         1         2         3         4         5         6   \\\n",
       "0  0.000000  0.000000  0.000000  0.000000  0.520998  0.000000  0.000000   \n",
       "1  0.000000  0.000000  0.000000  0.211230  0.000000  0.000000  0.000000   \n",
       "2  0.011111  0.011111  0.011111  0.011111  0.011111  0.011111  0.844444   \n",
       "3  0.011111  0.531672  0.011111  0.011111  0.011111  0.011111  0.011111   \n",
       "4  0.000000  0.000000  0.206367  0.000000  0.000000  0.368612  0.000000   \n",
       "\n",
       "         7         8         9         10        11        12        13  \\\n",
       "0  0.000000  0.000000  0.000000  0.000000  0.240099  0.138903  0.000000   \n",
       "1  0.000000  0.000000  0.000000  0.702103  0.000000  0.000000  0.000000   \n",
       "2  0.011111  0.011111  0.011111  0.011111  0.011111  0.011111  0.011111   \n",
       "3  0.011111  0.011111  0.323883  0.011111  0.011111  0.011111  0.011111   \n",
       "4  0.000000  0.000000  0.000000  0.000000  0.000000  0.000000  0.286489   \n",
       "\n",
       "         14  \n",
       "0  0.000000  \n",
       "1  0.000000  \n",
       "2  0.011111  \n",
       "3  0.011111  \n",
       "4  0.086152  "
      ]
     },
     "execution_count": 153,
     "metadata": {},
     "output_type": "execute_result"
    }
   ],
   "source": [
    "# Make sparse matrix for input into classifiers and regressors. #\n",
    "# Also create a dataframe version to display.\n",
    "Xh_train = make_ldatable(ldadocs_headlines, N_TOPIC, sparse=True)\n",
    "Xh_train_t = make_ldatable(ldadocs_headlines, N_TOPIC, sparse=False)\n",
    "Xh_train_t.head()"
   ]
  },
  {
   "cell_type": "code",
   "execution_count": 154,
   "metadata": {},
   "outputs": [
    {
     "data": {
      "text/html": [
       "<div>\n",
       "<style scoped>\n",
       "    .dataframe tbody tr th:only-of-type {\n",
       "        vertical-align: middle;\n",
       "    }\n",
       "\n",
       "    .dataframe tbody tr th {\n",
       "        vertical-align: top;\n",
       "    }\n",
       "\n",
       "    .dataframe thead th {\n",
       "        text-align: right;\n",
       "    }\n",
       "</style>\n",
       "<table border=\"1\" class=\"dataframe\">\n",
       "  <thead>\n",
       "    <tr style=\"text-align: right;\">\n",
       "      <th></th>\n",
       "      <th>0</th>\n",
       "      <th>1</th>\n",
       "      <th>2</th>\n",
       "      <th>3</th>\n",
       "      <th>4</th>\n",
       "      <th>5</th>\n",
       "      <th>6</th>\n",
       "      <th>7</th>\n",
       "      <th>8</th>\n",
       "      <th>9</th>\n",
       "      <th>10</th>\n",
       "      <th>11</th>\n",
       "      <th>12</th>\n",
       "      <th>13</th>\n",
       "      <th>14</th>\n",
       "    </tr>\n",
       "  </thead>\n",
       "  <tbody>\n",
       "    <tr>\n",
       "      <th>0</th>\n",
       "      <td>0.0</td>\n",
       "      <td>0.000000</td>\n",
       "      <td>0.242263</td>\n",
       "      <td>0.040972</td>\n",
       "      <td>0.166047</td>\n",
       "      <td>0.0</td>\n",
       "      <td>0.000000</td>\n",
       "      <td>0.286285</td>\n",
       "      <td>0.115980</td>\n",
       "      <td>0.0</td>\n",
       "      <td>0.000000</td>\n",
       "      <td>0.000000</td>\n",
       "      <td>0.000000</td>\n",
       "      <td>0.096905</td>\n",
       "      <td>0.047282</td>\n",
       "    </tr>\n",
       "    <tr>\n",
       "      <th>1</th>\n",
       "      <td>0.0</td>\n",
       "      <td>0.586261</td>\n",
       "      <td>0.000000</td>\n",
       "      <td>0.000000</td>\n",
       "      <td>0.000000</td>\n",
       "      <td>0.0</td>\n",
       "      <td>0.134566</td>\n",
       "      <td>0.000000</td>\n",
       "      <td>0.000000</td>\n",
       "      <td>0.0</td>\n",
       "      <td>0.000000</td>\n",
       "      <td>0.054316</td>\n",
       "      <td>0.216021</td>\n",
       "      <td>0.000000</td>\n",
       "      <td>0.000000</td>\n",
       "    </tr>\n",
       "    <tr>\n",
       "      <th>2</th>\n",
       "      <td>0.0</td>\n",
       "      <td>0.000000</td>\n",
       "      <td>0.126052</td>\n",
       "      <td>0.000000</td>\n",
       "      <td>0.235027</td>\n",
       "      <td>0.0</td>\n",
       "      <td>0.000000</td>\n",
       "      <td>0.000000</td>\n",
       "      <td>0.032948</td>\n",
       "      <td>0.0</td>\n",
       "      <td>0.082622</td>\n",
       "      <td>0.000000</td>\n",
       "      <td>0.422898</td>\n",
       "      <td>0.000000</td>\n",
       "      <td>0.094000</td>\n",
       "    </tr>\n",
       "    <tr>\n",
       "      <th>3</th>\n",
       "      <td>0.0</td>\n",
       "      <td>0.000000</td>\n",
       "      <td>0.000000</td>\n",
       "      <td>0.000000</td>\n",
       "      <td>0.000000</td>\n",
       "      <td>0.0</td>\n",
       "      <td>0.000000</td>\n",
       "      <td>0.095469</td>\n",
       "      <td>0.000000</td>\n",
       "      <td>0.0</td>\n",
       "      <td>0.774289</td>\n",
       "      <td>0.000000</td>\n",
       "      <td>0.000000</td>\n",
       "      <td>0.114242</td>\n",
       "      <td>0.000000</td>\n",
       "    </tr>\n",
       "    <tr>\n",
       "      <th>4</th>\n",
       "      <td>0.0</td>\n",
       "      <td>0.000000</td>\n",
       "      <td>0.000000</td>\n",
       "      <td>0.000000</td>\n",
       "      <td>0.000000</td>\n",
       "      <td>0.0</td>\n",
       "      <td>0.000000</td>\n",
       "      <td>0.000000</td>\n",
       "      <td>0.240944</td>\n",
       "      <td>0.0</td>\n",
       "      <td>0.000000</td>\n",
       "      <td>0.000000</td>\n",
       "      <td>0.213748</td>\n",
       "      <td>0.000000</td>\n",
       "      <td>0.539009</td>\n",
       "    </tr>\n",
       "  </tbody>\n",
       "</table>\n",
       "</div>"
      ],
      "text/plain": [
       "    0         1         2         3         4    5         6         7   \\\n",
       "0  0.0  0.000000  0.242263  0.040972  0.166047  0.0  0.000000  0.286285   \n",
       "1  0.0  0.586261  0.000000  0.000000  0.000000  0.0  0.134566  0.000000   \n",
       "2  0.0  0.000000  0.126052  0.000000  0.235027  0.0  0.000000  0.000000   \n",
       "3  0.0  0.000000  0.000000  0.000000  0.000000  0.0  0.000000  0.095469   \n",
       "4  0.0  0.000000  0.000000  0.000000  0.000000  0.0  0.000000  0.000000   \n",
       "\n",
       "         8    9         10        11        12        13        14  \n",
       "0  0.115980  0.0  0.000000  0.000000  0.000000  0.096905  0.047282  \n",
       "1  0.000000  0.0  0.000000  0.054316  0.216021  0.000000  0.000000  \n",
       "2  0.032948  0.0  0.082622  0.000000  0.422898  0.000000  0.094000  \n",
       "3  0.000000  0.0  0.774289  0.000000  0.000000  0.114242  0.000000  \n",
       "4  0.240944  0.0  0.000000  0.000000  0.213748  0.000000  0.539009  "
      ]
     },
     "execution_count": 154,
     "metadata": {},
     "output_type": "execute_result"
    }
   ],
   "source": [
    "# Now for articles #\n",
    "Xa_train = make_ldatable(ldadocs_articles, N_TOPIC, sparse=True)\n",
    "Xa_train_t = make_ldatable(ldadocs_articles, N_TOPIC, sparse=False)\n",
    "Xa_train_t.head()"
   ]
  },
  {
   "cell_type": "code",
   "execution_count": 147,
   "metadata": {},
   "outputs": [],
   "source": [
    "# First, predict classification of \"relevance\" labels #\n",
    "from sklearn.neighbors import KNeighborsClassifier\n",
    "from sklearn.linear_model import LogisticRegression\n",
    "from sklearn.ensemble import RandomForestClassifier"
   ]
  },
  {
   "cell_type": "code",
   "execution_count": 349,
   "metadata": {},
   "outputs": [
    {
     "name": "stdout",
     "output_type": "stream",
     "text": [
      "KNeighborsClassifier(algorithm='auto', leaf_size=30, metric='minkowski',\n",
      "           metric_params=None, n_jobs=None, n_neighbors=6, p=2,\n",
      "           weights='uniform')\n",
      "{'n_neighbors': 6}\n",
      "0.41084693787517307\n"
     ]
    }
   ],
   "source": [
    "# Find best parameters for KNN model #\n",
    "model = KNeighborsClassifier()\n",
    "grid_values = {'n_neighbors': [1] + list(range(2, 21, 2))}\n",
    "\n",
    "grid_knn = GridSearchCV(model, cv=3, param_grid=grid_values, scoring='precision')\n",
    "grid_knn.fit(Xa_train, yr_train);\n",
    "\n",
    "print(grid_knn.best_estimator_)\n",
    "print(grid_knn.best_params_)\n",
    "print(grid_knn.best_score_)"
   ]
  },
  {
   "cell_type": "code",
   "execution_count": 241,
   "metadata": {
    "collapsed": true
   },
   "outputs": [
    {
     "name": "stderr",
     "output_type": "stream",
     "text": [
      "/Users/neuromac/anaconda3/lib/python3.6/site-packages/sklearn/metrics/classification.py:1143: UndefinedMetricWarning: Precision is ill-defined and being set to 0.0 due to no predicted samples.\n",
      "  'precision', 'predicted', average, warn_for)\n",
      "/Users/neuromac/anaconda3/lib/python3.6/site-packages/sklearn/metrics/classification.py:1143: UndefinedMetricWarning: Precision is ill-defined and being set to 0.0 due to no predicted samples.\n",
      "  'precision', 'predicted', average, warn_for)\n",
      "/Users/neuromac/anaconda3/lib/python3.6/site-packages/sklearn/metrics/classification.py:1143: UndefinedMetricWarning: Precision is ill-defined and being set to 0.0 due to no predicted samples.\n",
      "  'precision', 'predicted', average, warn_for)\n",
      "/Users/neuromac/anaconda3/lib/python3.6/site-packages/sklearn/metrics/classification.py:1143: UndefinedMetricWarning: Precision is ill-defined and being set to 0.0 due to no predicted samples.\n",
      "  'precision', 'predicted', average, warn_for)\n",
      "/Users/neuromac/anaconda3/lib/python3.6/site-packages/sklearn/metrics/classification.py:1143: UndefinedMetricWarning: Precision is ill-defined and being set to 0.0 due to no predicted samples.\n",
      "  'precision', 'predicted', average, warn_for)\n",
      "/Users/neuromac/anaconda3/lib/python3.6/site-packages/sklearn/metrics/classification.py:1143: UndefinedMetricWarning: Precision is ill-defined and being set to 0.0 due to no predicted samples.\n",
      "  'precision', 'predicted', average, warn_for)\n",
      "/Users/neuromac/anaconda3/lib/python3.6/site-packages/sklearn/metrics/classification.py:1143: UndefinedMetricWarning: Precision is ill-defined and being set to 0.0 due to no predicted samples.\n",
      "  'precision', 'predicted', average, warn_for)\n",
      "/Users/neuromac/anaconda3/lib/python3.6/site-packages/sklearn/metrics/classification.py:1143: UndefinedMetricWarning: Precision is ill-defined and being set to 0.0 due to no predicted samples.\n",
      "  'precision', 'predicted', average, warn_for)\n",
      "/Users/neuromac/anaconda3/lib/python3.6/site-packages/sklearn/metrics/classification.py:1143: UndefinedMetricWarning: Precision is ill-defined and being set to 0.0 due to no predicted samples.\n",
      "  'precision', 'predicted', average, warn_for)\n",
      "/Users/neuromac/anaconda3/lib/python3.6/site-packages/sklearn/metrics/classification.py:1143: UndefinedMetricWarning: Precision is ill-defined and being set to 0.0 due to no predicted samples.\n",
      "  'precision', 'predicted', average, warn_for)\n",
      "/Users/neuromac/anaconda3/lib/python3.6/site-packages/sklearn/metrics/classification.py:1143: UndefinedMetricWarning: Precision is ill-defined and being set to 0.0 due to no predicted samples.\n",
      "  'precision', 'predicted', average, warn_for)\n",
      "/Users/neuromac/anaconda3/lib/python3.6/site-packages/sklearn/metrics/classification.py:1143: UndefinedMetricWarning: Precision is ill-defined and being set to 0.0 due to no predicted samples.\n",
      "  'precision', 'predicted', average, warn_for)\n"
     ]
    },
    {
     "name": "stdout",
     "output_type": "stream",
     "text": [
      "LogisticRegression(C=10.0, class_weight=None, dual=False, fit_intercept=True,\n",
      "          intercept_scaling=1, max_iter=100, multi_class='warn',\n",
      "          n_jobs=None, penalty='l2', random_state=42, solver='newton-cg',\n",
      "          tol=0.0001, verbose=0, warm_start=False)\n",
      "{'C': 10.0, 'penalty': 'l2'}\n",
      "0.36067441330599226\n"
     ]
    }
   ],
   "source": [
    "# Find best parameters for Logistic Regression model #\n",
    "# (Terrible, so move on.)\n",
    "model = LogisticRegression(random_state=42, solver='newton-cg')\n",
    "grid_values = {'penalty': ['l2'],'C': np.logspace(-4, 1, 6)}\n",
    "\n",
    "grid_lr = GridSearchCV(model, cv=3, param_grid=grid_values, scoring='precision')\n",
    "grid_lr.fit(Xa_train, yr_train);\n",
    "\n",
    "print(grid_lr.best_estimator_)\n",
    "print(grid_lr.best_params_)\n",
    "print(grid_lr.best_score_)"
   ]
  },
  {
   "cell_type": "code",
   "execution_count": 247,
   "metadata": {},
   "outputs": [
    {
     "name": "stdout",
     "output_type": "stream",
     "text": [
      "RandomForestClassifier(bootstrap=True, class_weight=None, criterion='gini',\n",
      "            max_depth=None, max_features=0.4, max_leaf_nodes=None,\n",
      "            min_impurity_decrease=0.0, min_impurity_split=None,\n",
      "            min_samples_leaf=1, min_samples_split=2,\n",
      "            min_weight_fraction_leaf=0.0, n_estimators=500, n_jobs=None,\n",
      "            oob_score=False, random_state=42, verbose=0, warm_start=False)\n",
      "{'max_features': 0.4, 'n_estimators': 500}\n",
      "0.41357630008525154\n"
     ]
    }
   ],
   "source": [
    "# Find best parameters for Random Forest model #\n",
    "model = RandomForestClassifier(random_state=42)\n",
    "grid_values = {'n_estimators': np.array([100,250,500]),'max_features': np.linspace(0.4,0.8,3)}\n",
    "\n",
    "grid_rf = GridSearchCV(model, cv=3, param_grid=grid_values, scoring='precision')\n",
    "grid_rf.fit(Xa_train, yr_train);\n",
    "\n",
    "print(grid_rf.best_estimator_)\n",
    "print(grid_rf.best_params_)\n",
    "print(grid_rf.best_score_)"
   ]
  },
  {
   "cell_type": "code",
   "execution_count": 250,
   "metadata": {},
   "outputs": [
    {
     "data": {
      "image/png": "[encoded data removed]",
      "text/plain": [
       "<Figure size 432x288 with 1 Axes>"
      ]
     },
     "metadata": {
      "needs_background": "light"
     },
     "output_type": "display_data"
    }
   ],
   "source": [
    "# Plot the results of the CV search #\n",
    "cv_test_scores = grid_rf.cv_results_['mean_test_score']\n",
    "cv_params = grid_rf.cv_results_['params']\n",
    "\n",
    "xx_sm, yy_sm = [], []\n",
    "xx_md, yy_md = [], []\n",
    "xx_lg, yy_lg = [], []\n",
    "for p,y in zip(cv_params,cv_test_scores):\n",
    "    if p['n_estimators']==100:\n",
    "        xx_sm.append(p['max_features'])\n",
    "        yy_sm.append(y)\n",
    "    elif p['n_estimators']==250:\n",
    "        xx_md.append(p['max_features'])\n",
    "        yy_md.append(y)\n",
    "    elif p['n_estimators']==500:\n",
    "        xx_lg.append(p['max_features'])\n",
    "        yy_lg.append(y)\n",
    "\n",
    "plt.plot(xx_sm,yy_sm);\n",
    "plt.plot(xx_md,yy_md);\n",
    "plt.plot(xx_lg,yy_lg);\n",
    "plt.xlabel('Max # of Features (percent)', fontsize=12);\n",
    "plt.ylabel('Weighted\\nAccuracy', fontsize=11, rotation=0, ha='right');\n",
    "plt.gca().yaxis.set_label_coords(0.01,1.02)\n",
    "plt.legend(['N = 100','N = 250','N = 500']);\n",
    "\n",
    "# fig = plt.gcf()\n",
    "# fig.savefig('supporting_files/RF_Parameters.svg', dpi=300)"
   ]
  },
  {
   "cell_type": "code",
   "execution_count": 261,
   "metadata": {},
   "outputs": [
    {
     "name": "stdout",
     "output_type": "stream",
     "text": [
      "500, \n",
      "1000, \n",
      "1500, \n",
      "2000, \n",
      "\n",
      "[(14, 0.93777764)]\n",
      "Annualized interest rates on certain investments as reported by the Federal Reserve Board on a weekly-average basis  WEEK ENDED  Jun 03, May 27, 2005 2005\n"
     ]
    }
   ],
   "source": [
    "# Fit the LDA model to the test corpus, using the training dictionary #\n",
    "_, alltokens = make_dictionary(Ta_test, nlp, en_stop, TAGS)\n",
    "corpus_articles_test = [dict_articles.doc2bow(tokens) for tokens in alltokens]\n",
    "# lda_articles.fit(corpus_articles_test)\n",
    "\n",
    "ldadocs_articles_test = [doc for doc in lda_articles[corpus_articles_test]]\n",
    "print(ldadocs_articles_test[812])\n",
    "print(Ta_test[812])\n",
    "\n",
    "Xa_test = make_ldatable(ldadocs_articles_test, N_TOPIC, sparse=True)"
   ]
  },
  {
   "cell_type": "code",
   "execution_count": 263,
   "metadata": {},
   "outputs": [
    {
     "data": {
      "text/plain": [
       "'0.034*\"FED\" + 0.032*\"federal\" + 0.029*\"reserve\" + 0.025*\"fed\" + 0.022*\"bank\" + 0.019*\"rates\" + 0.019*\"interest\" + 0.016*\"banks\" + 0.016*\"say\" + 0.014*\"policy\" + 0.013*\"rate\" + 0.012*\"feed\" + 0.010*\"chairman\" + 0.009*\"inflation\" + 0.009*\"economy\"'"
      ]
     },
     "execution_count": 263,
     "metadata": {},
     "output_type": "execute_result"
    }
   ],
   "source": [
    "lda_articles.print_topic(14, topn=15)"
   ]
  },
  {
   "cell_type": "code",
   "execution_count": 251,
   "metadata": {},
   "outputs": [
    {
     "name": "stdout",
     "output_type": "stream",
     "text": [
      "-- Metric ------ Value ----\n",
      " Accuracy:       1.000\n",
      " Precision:      1.000\n",
      " Recall:         1.000\n",
      " F1 Score:       1.000\n",
      "\n",
      "\n"
     ]
    }
   ],
   "source": [
    "# Refit the Random Forest model to the best parameters w/ all data #\n",
    "model = RandomForestClassifier(n_estimators=250, max_features = 0.6,\n",
    "    random_state=42)  # this one overfits, so skip it\n",
    "mode = \n",
    "model.fit(Xa_train, yr_train)\n",
    "ypred = model.predict(Xa_train)\n",
    "\n",
    "classification_score(yr_train, ypred)"
   ]
  },
  {
   "cell_type": "code",
   "execution_count": 357,
   "metadata": {},
   "outputs": [
    {
     "name": "stdout",
     "output_type": "stream",
     "text": [
      "-- Metric ------ Value ----\n",
      " Accuracy:       0.803\n",
      " Precision:      0.256\n",
      " Recall:         0.056\n",
      " F1 Score:       0.092\n",
      "\n",
      "\n"
     ]
    }
   ],
   "source": [
    "# Same as below #\n",
    "ypred_test = grid_knn.predict(Xa_test)\n",
    "classification_score(yr_test, ypred_test)"
   ]
  },
  {
   "cell_type": "code",
   "execution_count": 354,
   "metadata": {},
   "outputs": [
    {
     "name": "stdout",
     "output_type": "stream",
     "text": [
      "-- Metric ------ Value ----\n",
      " Accuracy:       0.803\n",
      " Precision:      0.256\n",
      " Recall:         0.056\n",
      " F1 Score:       0.092\n",
      "\n",
      "\n"
     ]
    }
   ],
   "source": [
    "# Predict the test data set #\n",
    "model = KNeighborsClassifier(n_neighbors=6)\n",
    "model.fit(Xa_train, yr_train);\n",
    "ypred_test = model.predict(Xa_test)\n",
    "\n",
    "classification_score(yr_test, ypred_test)"
   ]
  },
  {
   "cell_type": "code",
   "execution_count": null,
   "metadata": {},
   "outputs": [],
   "source": []
  },
  {
   "cell_type": "code",
   "execution_count": 266,
   "metadata": {},
   "outputs": [],
   "source": [
    "# Next up is regression modeling #\n",
    "import statsmodels.api as sm\n",
    "import statsmodels.formula.api as smf\n",
    "import scipy.stats as stats"
   ]
  },
  {
   "cell_type": "code",
   "execution_count": 308,
   "metadata": {},
   "outputs": [
    {
     "name": "stderr",
     "output_type": "stream",
     "text": [
      "/Users/neuromac/anaconda3/lib/python3.6/site-packages/ipykernel_launcher.py:2: RuntimeWarning: invalid value encountered in greater\n",
      "  \n",
      "/Users/neuromac/anaconda3/lib/python3.6/site-packages/ipykernel_launcher.py:7: RuntimeWarning: invalid value encountered in greater\n",
      "  import sys\n"
     ]
    }
   ],
   "source": [
    "# Make reduced versions of data where 'positivity' is not NaN #\n",
    "keepind = yp_train>-1   # gets around stupid numpy 64\n",
    "XXa_train = Xa_train.toarray()\n",
    "XXa_train = XXa_train[keepind]\n",
    "yyp_train = yp_train[keepind]\n",
    "\n",
    "keepind = yp_test>-1\n",
    "XXa_test = Xa_test.toarray()\n",
    "XXa_test = XXa_test[keepind]\n",
    "yyp_test = yp_test[keepind]\n",
    "\n",
    "XXa_train = np.insert(XXa_train, 0, 1, axis=1)  # add bias term\n",
    "XXa_test = np.insert(XXa_test, 0, 1, axis=1)"
   ]
  },
  {
   "cell_type": "code",
   "execution_count": 337,
   "metadata": {},
   "outputs": [
    {
     "data": {
      "text/html": [
       "<table class=\"simpletable\">\n",
       "<caption>OLS Regression Results</caption>\n",
       "<tr>\n",
       "  <th>Dep. Variable:</th>            <td>y</td>        <th>  R-squared:         </th> <td>   0.039</td>\n",
       "</tr>\n",
       "<tr>\n",
       "  <th>Model:</th>                   <td>OLS</td>       <th>  Adj. R-squared:    </th> <td>   0.025</td>\n",
       "</tr>\n",
       "<tr>\n",
       "  <th>Method:</th>             <td>Least Squares</td>  <th>  F-statistic:       </th> <td>   2.808</td>\n",
       "</tr>\n",
       "<tr>\n",
       "  <th>Date:</th>             <td>Sun, 18 Nov 2018</td> <th>  Prob (F-statistic):</th> <td>0.000263</td>\n",
       "</tr>\n",
       "<tr>\n",
       "  <th>Time:</th>                 <td>23:49:11</td>     <th>  Log-Likelihood:    </th> <td> -2042.2</td>\n",
       "</tr>\n",
       "<tr>\n",
       "  <th>No. Observations:</th>      <td>  1065</td>      <th>  AIC:               </th> <td>   4116.</td>\n",
       "</tr>\n",
       "<tr>\n",
       "  <th>Df Residuals:</th>          <td>  1049</td>      <th>  BIC:               </th> <td>   4196.</td>\n",
       "</tr>\n",
       "<tr>\n",
       "  <th>Df Model:</th>              <td>    15</td>      <th>                     </th>     <td> </td>   \n",
       "</tr>\n",
       "<tr>\n",
       "  <th>Covariance Type:</th>      <td>nonrobust</td>    <th>                     </th>     <td> </td>   \n",
       "</tr>\n",
       "</table>\n",
       "<table class=\"simpletable\">\n",
       "<tr>\n",
       "    <td></td>       <th>coef</th>     <th>std err</th>      <th>t</th>      <th>P>|t|</th>  <th>[0.025</th>    <th>0.975]</th>  \n",
       "</tr>\n",
       "<tr>\n",
       "  <th>const</th> <td>   27.5261</td> <td>   14.525</td> <td>    1.895</td> <td> 0.058</td> <td>   -0.976</td> <td>   56.028</td>\n",
       "</tr>\n",
       "<tr>\n",
       "  <th>x1</th>    <td>  -22.8751</td> <td>   14.609</td> <td>   -1.566</td> <td> 0.118</td> <td>  -51.541</td> <td>    5.791</td>\n",
       "</tr>\n",
       "<tr>\n",
       "  <th>x2</th>    <td>  -23.1726</td> <td>   14.621</td> <td>   -1.585</td> <td> 0.113</td> <td>  -51.863</td> <td>    5.518</td>\n",
       "</tr>\n",
       "<tr>\n",
       "  <th>x3</th>    <td>  -23.0948</td> <td>   14.615</td> <td>   -1.580</td> <td> 0.114</td> <td>  -51.772</td> <td>    5.582</td>\n",
       "</tr>\n",
       "<tr>\n",
       "  <th>x4</th>    <td>  -22.2092</td> <td>   14.641</td> <td>   -1.517</td> <td> 0.130</td> <td>  -50.938</td> <td>    6.519</td>\n",
       "</tr>\n",
       "<tr>\n",
       "  <th>x5</th>    <td>  -23.5482</td> <td>   14.561</td> <td>   -1.617</td> <td> 0.106</td> <td>  -52.119</td> <td>    5.023</td>\n",
       "</tr>\n",
       "<tr>\n",
       "  <th>x6</th>    <td>  -22.1072</td> <td>   14.659</td> <td>   -1.508</td> <td> 0.132</td> <td>  -50.872</td> <td>    6.658</td>\n",
       "</tr>\n",
       "<tr>\n",
       "  <th>x7</th>    <td>  -23.3376</td> <td>   14.612</td> <td>   -1.597</td> <td> 0.111</td> <td>  -52.009</td> <td>    5.334</td>\n",
       "</tr>\n",
       "<tr>\n",
       "  <th>x8</th>    <td>  -22.8073</td> <td>   14.609</td> <td>   -1.561</td> <td> 0.119</td> <td>  -51.474</td> <td>    5.859</td>\n",
       "</tr>\n",
       "<tr>\n",
       "  <th>x9</th>    <td>  -24.9491</td> <td>   14.607</td> <td>   -1.708</td> <td> 0.088</td> <td>  -53.611</td> <td>    3.713</td>\n",
       "</tr>\n",
       "<tr>\n",
       "  <th>x10</th>   <td>  -22.2413</td> <td>   14.690</td> <td>   -1.514</td> <td> 0.130</td> <td>  -51.067</td> <td>    6.584</td>\n",
       "</tr>\n",
       "<tr>\n",
       "  <th>x11</th>   <td>  -21.5390</td> <td>   14.615</td> <td>   -1.474</td> <td> 0.141</td> <td>  -50.216</td> <td>    7.138</td>\n",
       "</tr>\n",
       "<tr>\n",
       "  <th>x12</th>   <td>  -22.3900</td> <td>   14.660</td> <td>   -1.527</td> <td> 0.127</td> <td>  -51.157</td> <td>    6.377</td>\n",
       "</tr>\n",
       "<tr>\n",
       "  <th>x13</th>   <td>  -22.3490</td> <td>   14.643</td> <td>   -1.526</td> <td> 0.127</td> <td>  -51.082</td> <td>    6.384</td>\n",
       "</tr>\n",
       "<tr>\n",
       "  <th>x14</th>   <td>  -22.1736</td> <td>   14.625</td> <td>   -1.516</td> <td> 0.130</td> <td>  -50.870</td> <td>    6.523</td>\n",
       "</tr>\n",
       "<tr>\n",
       "  <th>x15</th>   <td>  -22.3604</td> <td>   14.608</td> <td>   -1.531</td> <td> 0.126</td> <td>  -51.024</td> <td>    6.303</td>\n",
       "</tr>\n",
       "</table>\n",
       "<table class=\"simpletable\">\n",
       "<tr>\n",
       "  <th>Omnibus:</th>       <td>411.477</td> <th>  Durbin-Watson:     </th> <td>   2.031</td>\n",
       "</tr>\n",
       "<tr>\n",
       "  <th>Prob(Omnibus):</th> <td> 0.000</td>  <th>  Jarque-Bera (JB):  </th> <td>  55.714</td>\n",
       "</tr>\n",
       "<tr>\n",
       "  <th>Skew:</th>          <td> 0.093</td>  <th>  Prob(JB):          </th> <td>7.98e-13</td>\n",
       "</tr>\n",
       "<tr>\n",
       "  <th>Kurtosis:</th>      <td> 1.895</td>  <th>  Cond. No.          </th> <td>1.21e+03</td>\n",
       "</tr>\n",
       "</table><br/><br/>Warnings:<br/>[1] Standard Errors assume that the covariance matrix of the errors is correctly specified.<br/>[2] The condition number is large, 1.21e+03. This might indicate that there are<br/>strong multicollinearity or other numerical problems."
      ],
      "text/plain": [
       "<class 'statsmodels.iolib.summary.Summary'>\n",
       "\"\"\"\n",
       "                            OLS Regression Results                            \n",
       "==============================================================================\n",
       "Dep. Variable:                      y   R-squared:                       0.039\n",
       "Model:                            OLS   Adj. R-squared:                  0.025\n",
       "Method:                 Least Squares   F-statistic:                     2.808\n",
       "Date:                Sun, 18 Nov 2018   Prob (F-statistic):           0.000263\n",
       "Time:                        23:49:11   Log-Likelihood:                -2042.2\n",
       "No. Observations:                1065   AIC:                             4116.\n",
       "Df Residuals:                    1049   BIC:                             4196.\n",
       "Df Model:                          15                                         \n",
       "Covariance Type:            nonrobust                                         \n",
       "==============================================================================\n",
       "                 coef    std err          t      P>|t|      [0.025      0.975]\n",
       "------------------------------------------------------------------------------\n",
       "const         27.5261     14.525      1.895      0.058      -0.976      56.028\n",
       "x1           -22.8751     14.609     -1.566      0.118     -51.541       5.791\n",
       "x2           -23.1726     14.621     -1.585      0.113     -51.863       5.518\n",
       "x3           -23.0948     14.615     -1.580      0.114     -51.772       5.582\n",
       "x4           -22.2092     14.641     -1.517      0.130     -50.938       6.519\n",
       "x5           -23.5482     14.561     -1.617      0.106     -52.119       5.023\n",
       "x6           -22.1072     14.659     -1.508      0.132     -50.872       6.658\n",
       "x7           -23.3376     14.612     -1.597      0.111     -52.009       5.334\n",
       "x8           -22.8073     14.609     -1.561      0.119     -51.474       5.859\n",
       "x9           -24.9491     14.607     -1.708      0.088     -53.611       3.713\n",
       "x10          -22.2413     14.690     -1.514      0.130     -51.067       6.584\n",
       "x11          -21.5390     14.615     -1.474      0.141     -50.216       7.138\n",
       "x12          -22.3900     14.660     -1.527      0.127     -51.157       6.377\n",
       "x13          -22.3490     14.643     -1.526      0.127     -51.082       6.384\n",
       "x14          -22.1736     14.625     -1.516      0.130     -50.870       6.523\n",
       "x15          -22.3604     14.608     -1.531      0.126     -51.024       6.303\n",
       "==============================================================================\n",
       "Omnibus:                      411.477   Durbin-Watson:                   2.031\n",
       "Prob(Omnibus):                  0.000   Jarque-Bera (JB):               55.714\n",
       "Skew:                           0.093   Prob(JB):                     7.98e-13\n",
       "Kurtosis:                       1.895   Cond. No.                     1.21e+03\n",
       "==============================================================================\n",
       "\n",
       "Warnings:\n",
       "[1] Standard Errors assume that the covariance matrix of the errors is correctly specified.\n",
       "[2] The condition number is large, 1.21e+03. This might indicate that there are\n",
       "strong multicollinearity or other numerical problems.\n",
       "\"\"\""
      ]
     },
     "execution_count": 337,
     "metadata": {},
     "output_type": "execute_result"
    }
   ],
   "source": [
    "model = sm.OLS(yyp_train, XXa_train)\n",
    "fit = model.fit()\n",
    "yp_pred = fit.predict(XXa_train)\n",
    "\n",
    "fit.summary()"
   ]
  },
  {
   "cell_type": "code",
   "execution_count": 338,
   "metadata": {},
   "outputs": [
    {
     "name": "stdout",
     "output_type": "stream",
     "text": [
      "-0.004829950899972735\n"
     ]
    }
   ],
   "source": [
    "# It's terrible. Headlines text won't be better so I'll leave it here. #\n",
    "yp_pred_test = fit.predict(XXa_test)\n",
    "r2 = 1 - (np.sum((yp_pred_test-yyp_test)**2) /\n",
    "    np.sum((yyp_test-yyp_test.mean())**2))\n",
    "print(r2)"
   ]
  },
  {
   "cell_type": "code",
   "execution_count": null,
   "metadata": {},
   "outputs": [],
   "source": []
  },
  {
   "cell_type": "raw",
   "metadata": {},
   "source": [
    "# Compute Perplexity\n",
    "print('\\nPerplexity: ', lda_model.log_perplexity(corpus))  # a measure of how good the model is. lower the better.\n",
    "\n",
    "# Compute Coherence Score\n",
    "coherence_model_lda = CoherenceModel(model=lda_model, texts=data_lemmatized, dictionary=id2word, coherence='c_v')\n",
    "coherence_lda = coherence_model_lda.get_coherence()\n",
    "print('\\nCoherence Score: ', coherence_lda)\n",
    "\n",
    "# Visualize the topics\n",
    "pyLDAvis.enable_notebook()\n",
    "vis = pyLDAvis.gensim.prepare(lda_model, corpus, id2word)\n",
    "vis"
   ]
  },
  {
   "cell_type": "raw",
   "metadata": {},
   "source": [
    "def format_topics_sentences(ldamodel=lda_model, corpus=corpus, texts=data):\n",
    "    # Init output\n",
    "    sent_topics_df = pd.DataFrame()\n",
    "\n",
    "    # Get main topic in each document\n",
    "    for i, row in enumerate(ldamodel[corpus]):\n",
    "        row = sorted(row, key=lambda x: (x[1]), reverse=True)\n",
    "        # Get the Dominant topic, Perc Contribution and Keywords for each document\n",
    "        for j, (topic_num, prop_topic) in enumerate(row):\n",
    "            if j == 0:  # => dominant topic\n",
    "                wp = ldamodel.show_topic(topic_num)\n",
    "                topic_keywords = \", \".join([word for word, prop in wp])\n",
    "                sent_topics_df = sent_topics_df.append(pd.Series([int(topic_num), round(prop_topic,4), topic_keywords]), ignore_index=True)\n",
    "            else:\n",
    "                break\n",
    "    sent_topics_df.columns = ['Dominant_Topic', 'Perc_Contribution', 'Topic_Keywords']\n",
    "\n",
    "    # Add original text to the end of the output\n",
    "    contents = pd.Series(texts)\n",
    "    sent_topics_df = pd.concat([sent_topics_df, contents], axis=1)\n",
    "    return(sent_topics_df)\n",
    "\n",
    "\n",
    "df_topic_sents_keywords = format_topics_sentences(ldamodel=optimal_model, corpus=corpus, texts=data)\n",
    "\n",
    "# Format\n",
    "df_dominant_topic = df_topic_sents_keywords.reset_index()\n",
    "df_dominant_topic.columns = ['Document_No', 'Dominant_Topic', 'Topic_Perc_Contrib', 'Keywords', 'Text']\n",
    "\n",
    "# Show\n",
    "df_dominant_topic.head(10)"
   ]
  },
  {
   "cell_type": "code",
   "execution_count": null,
   "metadata": {},
   "outputs": [],
   "source": []
  }
 ],
 "metadata": {
  "kernelspec": {
   "display_name": "Python 3",
   "language": "python",
   "name": "python3"
  },
  "language_info": {
   "codemirror_mode": {
    "name": "ipython",
    "version": 3
   },
   "file_extension": ".py",
   "mimetype": "text/x-python",
   "name": "python",
   "nbconvert_exporter": "python",
   "pygments_lexer": "ipython3",
   "version": "3.6.8"
  }
 },
 "nbformat": 4,
 "nbformat_minor": 2
}

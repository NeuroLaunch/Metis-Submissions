{
 "cells": [
  {
   "cell_type": "markdown",
   "metadata": {},
   "source": [
    "# Project Fletcher - Weeks 07 and 08\n",
    "\n",
    "# _Natural Language Processing of Economic News Articles_, by Steven Bierer\n",
    "\n",
    "## Data Assessment\n",
    "(Jupyter Notebook 1 of 2)"
   ]
  },
  {
   "cell_type": "markdown",
   "metadata": {},
   "source": [
    "#### ------ Section 1:  Load the data as a dataframe and clean up the text -----------"
   ]
  },
  {
   "cell_type": "code",
   "execution_count": 1,
   "metadata": {},
   "outputs": [],
   "source": [
    "import numpy as np\n",
    "import pandas as pd\n",
    "import re\n",
    "\n",
    "pd.set_option('max_colwidth',80)"
   ]
  },
  {
   "cell_type": "code",
   "execution_count": 3,
   "metadata": {},
   "outputs": [],
   "source": [
    "# Load in the data set and keep only the important information #\n",
    "df = pd.read_csv('data/NewsEcon2.csv',encoding ='latin1')\n",
    "df = df[['articleid','headline','text','relevance','positivity']]"
   ]
  },
  {
   "cell_type": "code",
   "execution_count": 4,
   "metadata": {},
   "outputs": [
    {
     "data": {
      "text/html": [
       "<div>\n",
       "<style scoped>\n",
       "    .dataframe tbody tr th:only-of-type {\n",
       "        vertical-align: middle;\n",
       "    }\n",
       "\n",
       "    .dataframe tbody tr th {\n",
       "        vertical-align: top;\n",
       "    }\n",
       "\n",
       "    .dataframe thead th {\n",
       "        text-align: right;\n",
       "    }\n",
       "</style>\n",
       "<table border=\"1\" class=\"dataframe\">\n",
       "  <thead>\n",
       "    <tr style=\"text-align: right;\">\n",
       "      <th></th>\n",
       "      <th>articleid</th>\n",
       "      <th>headline</th>\n",
       "      <th>text</th>\n",
       "      <th>relevance</th>\n",
       "      <th>positivity</th>\n",
       "    </tr>\n",
       "  </thead>\n",
       "  <tbody>\n",
       "    <tr>\n",
       "      <th>0</th>\n",
       "      <td>wsj_398217788</td>\n",
       "      <td>Yields on CDs Fell in the Latest Week</td>\n",
       "      <td>NEW YORK -- Yields on most certificates of deposit offered by major banks dr...</td>\n",
       "      <td>yes</td>\n",
       "      <td>3.0</td>\n",
       "    </tr>\n",
       "    <tr>\n",
       "      <th>1</th>\n",
       "      <td>wsj_399019502</td>\n",
       "      <td>The Morning Brief: White House Seeks to Limit Child Insurance Program</td>\n",
       "      <td>The Wall Street Journal Online&lt;/br&gt;&lt;/br&gt;The Morning Brief, a look at the day...</td>\n",
       "      <td>no</td>\n",
       "      <td>NaN</td>\n",
       "    </tr>\n",
       "  </tbody>\n",
       "</table>\n",
       "</div>"
      ],
      "text/plain": [
       "       articleid  \\\n",
       "0  wsj_398217788   \n",
       "1  wsj_399019502   \n",
       "\n",
       "                                                                headline  \\\n",
       "0                                  Yields on CDs Fell in the Latest Week   \n",
       "1  The Morning Brief: White House Seeks to Limit Child Insurance Program   \n",
       "\n",
       "                                                                              text  \\\n",
       "0  NEW YORK -- Yields on most certificates of deposit offered by major banks dr...   \n",
       "1  The Wall Street Journal Online</br></br>The Morning Brief, a look at the day...   \n",
       "\n",
       "  relevance  positivity  \n",
       "0       yes         3.0  \n",
       "1        no         NaN  "
      ]
     },
     "execution_count": 4,
     "metadata": {},
     "output_type": "execute_result"
    }
   ],
   "source": [
    "# Look at the first couple of articles #\n",
    "# Note that positivity is NaN when relevance = 'no'.\n",
    "df.head(2)"
   ]
  },
  {
   "cell_type": "code",
   "execution_count": 16,
   "metadata": {},
   "outputs": [],
   "source": [
    "# Define some of the known titles and headers to remove from the text #\n",
    "REMOVE_PREFIX = re.compile( \"^([A-Z ]+ -- |\"\n",
    "                            \"The Wall Street Journal Online</br></br>The Morning Brief,[^<]*</br></br>|\"\n",
    "                            \"Author:[^<]*</br></br>|\"\n",
    "                            \"The Wall Street Journal Online|\"\n",
    "                            \"The Morning Brief:|\"\n",
    "                            \"Manager's Journal|\"\n",
    "                            \"\\[[\\w ]*\\]</br></br>|\"\n",
    "                            \"\\[[\\w ]*\\])\"\n",
    "                          )\n",
    "# Also define certain non-text characters and formatting for removal #\n",
    "REPLACE_TEXT = {\"</br></br>\":\" \", \":\":\" \", \"--\":\" \"}"
   ]
  },
  {
   "cell_type": "code",
   "execution_count": 472,
   "metadata": {},
   "outputs": [],
   "source": [
    "# Define and clean up the data #\n",
    "clean_articles = list(df['text'])\n",
    "clean_headlines = list(df['headline'])\n",
    "y_relevance = list(df['relevance'])\n",
    "y_positivity = list(df['positivity'])\n",
    "\n",
    "clean_articles = [re.sub(REMOVE_PREFIX,'',entry) for entry in clean_articles]\n",
    "for k,v in REPLACE_TEXT.items():\n",
    "    clean_articles = [re.sub(k,v,entry.strip()) for entry in clean_articles]\n",
    "    \n",
    "clean_headlines = [re.sub(REMOVE_PREFIX,'',entry) for entry in clean_headlines]\n",
    "for k,v in REPLACE_TEXT.items():\n",
    "    clean_headlines = [re.sub(k,v,entry.strip()) for entry in clean_headlines]"
   ]
  },
  {
   "cell_type": "code",
   "execution_count": 473,
   "metadata": {},
   "outputs": [],
   "source": [
    "# Save the claned text data and labels #\n",
    "import pickle\n",
    "\n",
    "with open('data/clean_articles.pkl', 'wb') as picklefile:\n",
    "    pickle.dump(clean_articles, picklefile)\n",
    "with open('data/clean_headlines.pkl', 'wb') as picklefile:\n",
    "    pickle.dump(clean_headlines, picklefile)\n",
    "with open('data/y_relevance.pkl', 'wb') as picklefile:\n",
    "    pickle.dump(y_relevance, picklefile)\n",
    "with open('data/y_positivity.pkl', 'wb') as picklefile:\n",
    "    pickle.dump(y_positivity, picklefile)"
   ]
  },
  {
   "cell_type": "markdown",
   "metadata": {},
   "source": [
    "#### ------ Section 2:  Parse the text into tokens ----------------------------\n",
    "Both common English and named entity tokens will be identified, the former as lemmatized strings."
   ]
  },
  {
   "cell_type": "code",
   "execution_count": 27,
   "metadata": {},
   "outputs": [
    {
     "name": "stdout",
     "output_type": "stream",
     "text": [
      "[nltk_data] Downloading package stopwords to\n",
      "[nltk_data]     /Users/neuromac/nltk_data...\n",
      "[nltk_data]   Package stopwords is already up-to-date!\n"
     ]
    }
   ],
   "source": [
    "import spacy\n",
    "from spacy.lang.en import English\n",
    "import nltk\n",
    "from nltk.corpus import wordnet\n",
    "from gensim import corpora\n",
    "\n",
    "nlp = spacy.load('en_core_web_md')\n",
    "nltk.download('stopwords')"
   ]
  },
  {
   "cell_type": "code",
   "execution_count": 351,
   "metadata": {},
   "outputs": [],
   "source": [
    "# Import utility functions for tokenizing and token counting #\n",
    "import NLP_Analysis\n",
    "import importlib\n",
    "importlib.reload(NLP_Analysis)  # makes it easy to reload for notebook\n",
    "from NLP_Analysis import tokenize, make_dictionary, make_tftable"
   ]
  },
  {
   "cell_type": "code",
   "execution_count": 284,
   "metadata": {},
   "outputs": [],
   "source": [
    "# Define the stop words for the main token parsing #\n",
    "en_stop = set(nltk.corpus.stopwords.words('english'))\n",
    "en_stop.add('%')        # many of these pass through, so filter early"
   ]
  },
  {
   "cell_type": "code",
   "execution_count": 287,
   "metadata": {
    "collapsed": true
   },
   "outputs": [
    {
     "name": "stdout",
     "output_type": "stream",
     "text": [
      "500, \n",
      "1000, \n",
      "1500, \n",
      "2000, \n",
      "2500, \n",
      "3000, \n",
      "3500, \n",
      "4000, \n",
      "4500, \n",
      "5000, \n",
      "5500, \n",
      "6000, \n",
      "6500, \n",
      "7000, \n",
      "7500, \n",
      "8000, \n",
      "\n",
      "Dictionary pared from 12652 to 3254 entries.\n",
      "Corpus of 8000 documents created.\n"
     ]
    }
   ],
   "source": [
    "# Create a corpus of headlines consisting of desired tokens #\n",
    "# This uses a custom utility function to creat the dictionary #\n",
    "TAGS = ['NOUN','VERB','ADJ','ADV','ORG']\n",
    "\n",
    "dict_headlines, alltokens = \\   # utility function in NLP_Analysis.py to tokenize\n",
    "    make_dictionary(clean_headlines, nlp, en_stop, TAGS)\n",
    "\n",
    "dictsize1 = len(dict_headlines) # limit the acceptable tokens\n",
    "dict_headlines.filter_extremes(no_below=3, no_above=0.8, keep_n=10000)\n",
    "dictsize2 = len(dict_headlines)\n",
    "print(f'Dictionary pared from {dictsize1} to {dictsize2} entries.')\n",
    "                                # create a list of tokens for each document\n",
    "corpus_headlines = [dict_headlines.doc2bow(tokens) for tokens in alltokens]\n",
    "print(f'Corpus of {len(corpus_headlines)} documents created.')"
   ]
  },
  {
   "cell_type": "code",
   "execution_count": 291,
   "metadata": {},
   "outputs": [
    {
     "name": "stdout",
     "output_type": "stream",
     "text": [
      "500, \n",
      "1000, \n",
      "1500, \n",
      "2000, \n",
      "2500, \n",
      "3000, \n",
      "3500, \n",
      "4000, \n",
      "4500, \n",
      "5000, \n",
      "5500, \n",
      "6000, \n",
      "6500, \n",
      "7000, \n",
      "7500, \n",
      "8000, \n",
      "\n",
      "Dictionary pared from 54827 to 17903 entries.\n",
      "Corpus of 8000 documents created.\n"
     ]
    }
   ],
   "source": [
    "# Repeat for the newspaper articles #\n",
    "# Ultimately, the article text is of more interest than the headlines.\n",
    "TAGS = ['NOUN','VERB','ADJ','ADV','ORG','GPE']\n",
    "\n",
    "dict_articles, alltokens = \\\n",
    "    make_dictionary(clean_articles, nlp, en_stop, TAGS)\n",
    "\n",
    "dictsize1 = len(dict_articles)\n",
    "dict_articles.filter_extremes(no_below=3, no_above=0.8, keep_n=30000)\n",
    "dictsize2 = len(dict_articles)\n",
    "print(f'Dictionary pared from {dictsize1} to {dictsize2} entries.')\n",
    "\n",
    "corpus_articles = [dict_articles.doc2bow(tokens) for tokens in alltokens]\n",
    "print(f'Corpus of {len(corpus_articles)} documents created.')"
   ]
  },
  {
   "cell_type": "code",
   "execution_count": 48,
   "metadata": {},
   "outputs": [
    {
     "name": "stdout",
     "output_type": "stream",
     "text": [
      "6499 wore\n",
      "6692 motorola\n",
      "2779 kid\n",
      "3839 certainly\n",
      "1575 sectors\n",
      "3713 MEDICARE\n"
     ]
    }
   ],
   "source": [
    "# Look at a random selection (+1 entity) of the dictionary entries #\n",
    "for i in np.random.randint(0,8000,5):\n",
    "    print(i, dict_articles[i])\n",
    "print(dict_articles.token2id.get('MEDICARE'), 'MEDICARE')"
   ]
  },
  {
   "cell_type": "code",
   "execution_count": 9,
   "metadata": {},
   "outputs": [
    {
     "name": "stdout",
     "output_type": "stream",
     "text": [
      "Currency Trading  Dollar Remains in Tight Ranges Amid Wait for U.S. Jobs Data\n",
      "[(26, 'currency', 1), (27, 'data', 1), (28, 'dollar', 1), (29, 'jobs', 1), (30, 'ranges', 1), (31, 'remains', 1), (32, 'tight', 1), (33, 'trading', 1), (34, 'wait', 1)]\n"
     ]
    }
   ],
   "source": [
    "# As an example, look at the word tallies for one of the headlines #\n",
    "print(clean_headlines[4])\n",
    "print([(k,dict_headlines[k],v) for k,v in corpus_headlines[4]])"
   ]
  },
  {
   "cell_type": "code",
   "execution_count": 106,
   "metadata": {},
   "outputs": [],
   "source": [
    "# Save the data #\n",
    "import pickle\n",
    "\n",
    "with open('data/corpus_headlines.pkl', 'wb') as picklefile:\n",
    "    pickle.dump(corpus_headlines, picklefile)\n",
    "with open('data/corpus_articles.pkl', 'wb') as picklefile:\n",
    "    pickle.dump(corpus_articles, picklefile)\n",
    "with open('data/dict_headlines.pkl', 'wb') as picklefile:\n",
    "    pickle.dump(dict_headlines, picklefile)\n",
    "with open('data/dict_articles.pkl', 'wb') as picklefile:\n",
    "    pickle.dump(dict_articles, picklefile)"
   ]
  },
  {
   "cell_type": "markdown",
   "metadata": {},
   "source": [
    "#### ---- Section 3:  Visualize token frequencies ---------------\n",
    "Specifically interested in comparing tokens in \"relevant\" versus\n",
    "\"nonrelevant\" artiles (as judged by the surveyed readers)."
   ]
  },
  {
   "cell_type": "code",
   "execution_count": 419,
   "metadata": {},
   "outputs": [],
   "source": [
    "# Make term-frequency tables, to facilitate visualizing token counts #\n",
    "# \"_hr\" refers to relevant headlines, \"_hn\" to nonrelevant, etc.\n",
    "from itertools import compress   # efficient way to boolean mask a list\n",
    "\n",
    "mask_rel = df['relevance']=='yes'\n",
    "mask_not = df['relevance']=='no'\n",
    "corpus_hr = [entry for entry in list(compress(corpus_headlines, mask_rel))]\n",
    "corpus_hn = [entry for entry in list(compress(corpus_headlines, mask_not))]\n",
    "corpus_ar = [entry for entry in list(compress(corpus_articles, mask_rel))]\n",
    "corpus_an = [entry for entry in list(compress(corpus_articles, mask_not))]\n",
    "\n",
    "tf_hr = make_tftable(dict_headlines, corpus_hr)  # utility function\n",
    "tf_hn = make_tftable(dict_headlines, corpus_hn)\n",
    "tf_ar = make_tftable(dict_articles, corpus_ar)\n",
    "tf_an = make_tftable(dict_articles, corpus_an)"
   ]
  },
  {
   "cell_type": "code",
   "execution_count": 434,
   "metadata": {},
   "outputs": [],
   "source": [
    "import matplotlib.pyplot as plt\n",
    "%matplotlib inline\n",
    "%config InlineBackend.figure_format = 'png'"
   ]
  },
  {
   "cell_type": "code",
   "execution_count": 468,
   "metadata": {},
   "outputs": [
    {
     "data": {
      "image/png": "[encoded data removed]",
      "text/plain": [
       "<Figure size 720x432 with 1 Axes>"
      ]
     },
     "metadata": {
      "needs_background": "light"
     },
     "output_type": "display_data"
    }
   ],
   "source": [
    "# Make a bar chart of most-frequent relevant article tokens #\n",
    "N = 10\n",
    "xx = np.arange(N)\n",
    "yysum = tf_ar['count'].sum()\n",
    "yy1 = np.array(tf_ar['count'][:N]) * 100/yysum\n",
    "tokens = list(tf_ar['token'][:N])\n",
    "\n",
    "plt.bar(xx, yy1, color='#3D59AB');\n",
    "plt.xticks(xx, tokens, rotation=45, ha='right');\n",
    "plt.xlim(xx[0]-.5,xx[-1]+.5);\n",
    "plt.tick_params(axis='x', bottom=False)\n",
    "plt.tick_params(axis='both', which='major', labelsize=14)\n",
    "\n",
    "fig = plt.gcf(); ax = plt.gca(); \n",
    "fig.set_figwidth(10); fig.set_figheight(6)\n",
    "ax.set_ylabel('% All Token Counts', fontsize=14, rotation = 0, ha='right')\n",
    "ax.yaxis.set_label_coords(0.15, 1.02)\n",
    "plt.legend(['Relevant Articles'], fontsize=16);"
   ]
  },
  {
   "cell_type": "code",
   "execution_count": 467,
   "metadata": {},
   "outputs": [
    {
     "data": {
      "image/png": "[encoded data removed]",
      "text/plain": [
       "<Figure size 720x432 with 1 Axes>"
      ]
     },
     "metadata": {
      "needs_background": "light"
     },
     "output_type": "display_data"
    }
   ],
   "source": [
    "# Top tokens from nonrelevant articles are similar! #\n",
    "# Even the named entity \"U.S\" appears, presumably in articles about the U.S.\n",
    "# that aren't necessarily about the economy. This will make the yes/no\n",
    "# relevance classification prediciton difficult.\n",
    "N = 10\n",
    "xx = np.arange(N)\n",
    "yysum = tf_an['count'].sum()\n",
    "yy1 = np.array(tf_an['count'][:N]) * 100/yysum\n",
    "tokens = list(tf_an['token'][:N])\n",
    "\n",
    "plt.bar(xx, yy1, color='#3D59AB');\n",
    "plt.xticks(xx, tokens, rotation=45, ha='right');\n",
    "plt.xlim(xx[0]-.5,xx[-1]+.5);\n",
    "plt.tick_params(axis='x', bottom=False)\n",
    "plt.tick_params(axis='both', which='major', labelsize=14)\n",
    "\n",
    "fig = plt.gcf(); ax = plt.gca(); \n",
    "fig.set_figwidth(10); fig.set_figheight(6)\n",
    "ax.set_ylabel('% All Token Counts', fontsize=14, rotation = 0, ha='right')\n",
    "ax.yaxis.set_label_coords(0.15, 1.02)\n",
    "plt.legend(['Nonrelevant Articles'], fontsize=16);"
   ]
  },
  {
   "cell_type": "code",
   "execution_count": null,
   "metadata": {},
   "outputs": [],
   "source": []
  }
 ],
 "metadata": {
  "kernelspec": {
   "display_name": "Python 3",
   "language": "python",
   "name": "python3"
  },
  "language_info": {
   "codemirror_mode": {
    "name": "ipython",
    "version": 3
   },
   "file_extension": ".py",
   "mimetype": "text/x-python",
   "name": "python",
   "nbconvert_exporter": "python",
   "pygments_lexer": "ipython3",
   "version": "3.6.6"
  }
 },
 "nbformat": 4,
 "nbformat_minor": 2
}

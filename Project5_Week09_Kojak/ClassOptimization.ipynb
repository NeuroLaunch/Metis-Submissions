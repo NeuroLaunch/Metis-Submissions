{
 "cells": [
  {
   "cell_type": "markdown",
   "metadata": {},
   "source": [
    "# Project Kojak - Weeks 09 - 12\n",
    "\n",
    "## Main speaker recognition / classification routines.\n",
    "(Jupyter Notebook 4 of 4)"
   ]
  },
  {
   "cell_type": "markdown",
   "metadata": {},
   "source": [
    "### This notebook\n",
    "\n",
    "This notebook set trains the 100 household groups and tests it with new audio from the same speakers and from unfamiliar (out-of-group) speakers. The data sets were created in the 2nd notebook, AudioGrouping.ipynb.\n",
    "\n",
    "The notebook calls extensively from the custom utility function, SpeechAnalysis.py."
   ]
  },
  {
   "cell_type": "code",
   "execution_count": 1,
   "metadata": {},
   "outputs": [],
   "source": [
    "import numpy as np\n",
    "import glob`\n",
    "import  os\n",
    "from itertools import compress\n",
    "\n",
    "import soundfile as sf\n",
    "import librosa, librosa.display\n",
    "\n",
    "from scipy import signal\n",
    "from sklearn.decomposition import NMF\n",
    "\n",
    "import matplotlib.pyplot as plt"
   ]
  },
  {
   "cell_type": "code",
   "execution_count": 7,
   "metadata": {},
   "outputs": [],
   "source": [
    "import Speech_Analysis  # custom module, facilitating notebook reloads\n",
    "import importlib\n",
    "importlib.reload(Speech_Analysis)\n",
    "from Speech_Analysis import get_wavfiles, log_spectrogram, play_nstaudio\n",
    "from Speech_Analysis import nmf_decomp, create_groupdict"
   ]
  },
  {
   "cell_type": "code",
   "execution_count": 5,
   "metadata": {},
   "outputs": [],
   "source": [
    "# Get audio data for training (device groups) and test sets #\n",
    "# These were previously saved in AudioGrouping.py.\n",
    "import pickle\n",
    "\n",
    "with open('data/batch_training02.pkl', 'rb') as picklefile:\n",
    "    batch_training = pickle.load(picklefile)\n",
    "    \n",
    "with open('data/batch_test02.pkl', 'rb') as picklefile:\n",
    "    batch_test = pickle.load(picklefile)"
   ]
  },
  {
   "cell_type": "code",
   "execution_count": 284,
   "metadata": {},
   "outputs": [],
   "source": [
    "# Function to calculate the NMF solution with a group sparsity constraint #\n",
    "# The algorithm is based on the work of Badawy et al, 2015  (which itself cites\n",
    "# Lefevre et al, 2011).\n",
    "def nmf_gsparse(Hinit, W, Atrue, wid, lam=1, niter=20, eps=1e-30):\n",
    "    H = Hinit\n",
    "    \n",
    "    for n in range(niter):\n",
    "        A = W.dot(H)\n",
    "        Pj = []\n",
    "        \n",
    "        for j in np.unique(wid):\n",
    "            Hj = Hinit[wid==j,:]\n",
    "            normj = np.linalg.norm(Hj, 1, axis=0, keepdims=True)\n",
    "            normj = normj.repeat(Hj.shape[0], axis=0)\n",
    "            Pj.append(lam / (eps + normj))\n",
    "        \n",
    "        P = np.vstack(Pj)\n",
    "        \n",
    "        num = W.T.dot(Atrue * A**(-2))\n",
    "        den = W.T.dot(A**(-1)) + P\n",
    "        H = H * (num/den)**.5\n",
    "    \n",
    "    return H"
   ]
  },
  {
   "cell_type": "code",
   "execution_count": 445,
   "metadata": {},
   "outputs": [],
   "source": [
    "# Set the hyperparameters - easiest just to manually change #\n",
    "NCOMPONENT = 10                # K for NMF\n",
    "FREQRANGE = (50, 6000)         # limit frequencies of interest; in Hz\n",
    "TRIM = 10                      # higher scaling value = more aggresive removal of quiet times\n",
    "CONFIDENCE = 1.05              # factor by which max-energy spkr must be greater than next-highest\n",
    "ALPHA, L1_RATIO = 0.05, 0.7    # only for dictionary creation\n",
    "\n",
    "NTEST_OUT = 9                  # number of out-of-group audio files to test (in group has 18)\n",
    "DICT_OUT = False\n",
    "SPARSE = True"
   ]
  },
  {
   "cell_type": "code",
   "execution_count": 366,
   "metadata": {},
   "outputs": [],
   "source": [
    "# Failed attempt to augment the in-group dictionary with random out-of-group features #\n",
    "# This was ultimately always set to False in the final model runs.\n",
    "if DICT_OUT:\n",
    "    wavidx = np.random.permutation(len(batch_test))[:NTEST_DICT]\n",
    "    wavbunch = [batch_test[i] for i in wavidx]\n",
    "    group_temp = {'speakers':['TEST'],'train':[wavbunch]}\n",
    "\n",
    "    dd_nonmember, _ = create_groupdict(group_temp, ncomp=NCOMPONENT, frange=FREQRANGE,\n",
    "                          trim=TRIM, alpha=ALPHA, l1_ratio=L1_RATIO)\n",
    "else:\n",
    "    dd_nonmember = []"
   ]
  },
  {
   "cell_type": "code",
   "execution_count": 446,
   "metadata": {},
   "outputs": [
    {
     "name": "stdout",
     "output_type": "stream",
     "text": [
      "Processing...\n",
      "1 2 3 4 5 6 7 8 9 10 \n",
      "11 12 13 14 15 16 17 18 19 20 \n",
      "21 22 23 24 25 26 27 28 29 30 \n",
      "31 32 33 34 35 36 37 38 39 40 \n",
      "41 42 43 44 "
     ]
    },
    {
     "name": "stderr",
     "output_type": "stream",
     "text": [
      "/Users/neuromac/anaconda3/lib/python3.6/site-packages/ipykernel_launcher.py:16: RuntimeWarning: overflow encountered in power\n",
      "  app.launch_new_instance()\n",
      "/Users/neuromac/anaconda3/lib/python3.6/site-packages/ipykernel_launcher.py:16: RuntimeWarning: invalid value encountered in multiply\n",
      "  app.launch_new_instance()\n",
      "/Users/neuromac/anaconda3/lib/python3.6/site-packages/numpy/core/_methods.py:28: RuntimeWarning: invalid value encountered in reduce\n",
      "  return umr_maximum(a, axis, None, out, keepdims, initial)\n"
     ]
    },
    {
     "name": "stdout",
     "output_type": "stream",
     "text": [
      "45 46 47 48 49 50 \n",
      "51 52 53 54 55 56 57 58 59 60 \n",
      "61 62 63 64 65 66 67 68 69 70 \n",
      "71 72 73 74 75 76 77 78 79 80 \n",
      "81 82 83 84 85 86 87 88 89 90 \n",
      "91 92 93 94 95 96 97 98 99 100 \n",
      "Done\n"
     ]
    }
   ],
   "source": [
    "# The model run, which both trains and tests the 100 groups #\n",
    "NTRY = 100    # set to 100 to run on all the data\n",
    "\n",
    "batch_result = {}\n",
    "print('Processing...')\n",
    "\n",
    "for gnum in range(1,NTRY+1):\n",
    "    group_info = batch_training[gnum]\n",
    "    batch_result[gnum] = {'ytrue':[], 'ypred':[], 'pct_energy1':[], 'pct_energy2':[]}\n",
    "    \n",
    "    # Create group dictionary matched to speakers #\n",
    "    # ddid = speaker id for dictionary; spid = speaker id for test audio files.\n",
    "    dd, ddid = create_groupdict(group_info, ncomp=NCOMPONENT, frange=FREQRANGE,\n",
    "                                trim=TRIM, alpha=ALPHA, l1_ratio=L1_RATIO)\n",
    "    \n",
    "    # Loop through all of the group's test wav files, keeping track of speaker ids #\n",
    "    wavbunch = [wavfile for spwav in group_info['test'] for wavfile in spwav]\n",
    "    wavid = [sp for j in range(len(group_info['test'])) \\\n",
    "                for sp in j*np.ones((1,len(group_info['test'][j])),dtype=int)]\n",
    "    wavid = [k for ka in wavid for k in ka]  # each wavid[] corresponds to wavbunch[]\n",
    "\n",
    "    # Add to test set a random sampling of out-of-group wav files #\n",
    "    testidx = np.random.permutation(len(batch_test))[:NTEST_OUT]\n",
    "    wavbunch = wavbunch + [batch_test[i] for i in testidx]\n",
    "    wavid = wavid + [-1]*NTEST_OUT\n",
    "    \n",
    "    # Also augment in-group dictionary with out-of-group dictionary #\n",
    "    if DICT_OUT:\n",
    "        dd = np.append(dd,dd_nonmember,axis=1)\n",
    "        ddid = np.append(ddid,-1*np.ones(dd_nonmember.shape[1]))\n",
    "    spid = np.unique(ddid)\n",
    "    nsp = len(spid)\n",
    "    \n",
    "    # Loop through all the test audio files and compile results #\n",
    "    for i in range(len(wavbunch)):\n",
    "        wavfile = wavbunch[i]\n",
    "        wavtest, srate = sf.read(wavfile)\n",
    "        \n",
    "        # Calculate the spectrogram for current wav file #\n",
    "        freqs, times, SSwav = log_spectrogram(wavtest, srate, freq_lim=FREQRANGE)\n",
    "        SSwav = SSwav + abs(SSwav.min())  # size F x T\n",
    "        if TRIM:  # optionally remove quiet portions (little low-freq energy)\n",
    "            SSavg = SSwav[2:102,:].mean(axis=0)\n",
    "            cutoff = (SSavg[4:].max()/SSwav[:2].max()) * TRIM\n",
    "            SSwav_trimmed = SSwav[:,SSavg > cutoff*SSavg[:2].mean()]\n",
    "            if SSwav_trimmed.shape[1] >= 0.3*SSwav.shape[1]:\n",
    "                SSwav = SSwav_trimmed\n",
    "\n",
    "        # Calculate the NMF activations for the spectrogram #\n",
    "        nmf_model3 = NMF(NCOMPONENT, solver='mu', beta_loss='kullback-leibler',\n",
    "                         alpha=0.0, l1_ratio=0.0, max_iter=400);\n",
    "        nmf_model3.fit(SSwav.T);\n",
    "        nmf_model3.components_ = dd.T\n",
    "        nmf_model3.n_components_ = dd.T.shape[0]\n",
    "\n",
    "        Vtest = nmf_model3.transform(SSwav.T).T\n",
    "\n",
    "        # Refine the activations by imposing sparsity (all-or-nothing speaker dict. entries)\n",
    "        if SPARSE:\n",
    "#             Vinit = np.random.rand(*(Vtest.shape)) * np.linalg.norm(Vtest,1)\n",
    "            Vinit = Vtest\n",
    "            Vtest = nmf_gsparse(Vinit, dd, SSwav, ddid, lam=1, niter=30)\n",
    "        \n",
    "        # Sum across time to get total activation #\n",
    "        Venergy = Vtest.sum(axis=1)\n",
    "\n",
    "        # Determine the best speaker id (0,1,..,NSPKR-1,and -1 for non-group) #\n",
    "        sp_score = np.zeros(nsp)\n",
    "        for j,sp in enumerate(spid):\n",
    "            sp_score[j] = Venergy[ddid==sp].sum()\n",
    "        idx_best = sp_score.argmax()\n",
    "        sp_best = spid[idx_best]\n",
    "        \n",
    "        pct1 = sp_score.max()/sp_score.sum()\n",
    "        batch_result[gnum]['pct_energy1'].append(pct1)\n",
    "        \n",
    "        temp = np.append(sp_score[:idx_best],sp_score[idx_best+1:])\n",
    "        pct2 = temp.max()/sp_score.sum()\n",
    "        batch_result[gnum]['pct_energy2'].append(pct2)\n",
    "        \n",
    "        # Set to -1 if pct1/pct2 ratio isn't high enough #\n",
    "        if pct1/pct2 < CONFIDENCE:\n",
    "            sp_best = -1\n",
    "        batch_result[gnum]['ypred'].append(sp_best)\n",
    "        \n",
    "    batch_result[gnum]['ytrue'] = wavid\n",
    "    # end i over wav files #\n",
    "    \n",
    "    print(gnum, end=' ')\n",
    "    if not gnum%10:\n",
    "        print()\n",
    "    # end gnum over groups #\n",
    "    \n",
    "print('Done')"
   ]
  },
  {
   "cell_type": "code",
   "execution_count": 448,
   "metadata": {},
   "outputs": [
    {
     "data": {
      "image/png": "[encoded data removed]",
      "text/plain": [
       "<Figure size 432x288 with 1 Axes>"
      ]
     },
     "metadata": {
      "needs_background": "light"
     },
     "output_type": "display_data"
    }
   ],
   "source": [
    "# Get a quick look at accuracy vs diversity ranking for both in- and out-of-group audio #\n",
    "# It turns out that diversity didn't correlate with any accuracy score.\n",
    "accuracy_in, accuracy_out = [], []\n",
    "accuracy_total = []\n",
    "diversity = []\n",
    "\n",
    "for i in range(1,len(batch_result)+1):\n",
    "    ytrue = np.array(batch_result[i]['ytrue'])\n",
    "    ypred = np.array(batch_result[i]['ypred'])\n",
    "    accuracy_total.append(sum(ytrue == ypred)/len(ytrue))\n",
    "    \n",
    "    yt = ytrue[ytrue>-1]; yp = ypred[ytrue>-1]\n",
    "    accuracy_in.append(sum(yt == yp)/len(yt))\n",
    "\n",
    "    yt = ytrue[ytrue==-1]; yp = ypred[ytrue==-1]\n",
    "    accuracy_out.append(sum(yt == yp)/len(yt))\n",
    "    \n",
    "    diversity.append(batch_training[i]['diversity'])\n",
    "        \n",
    "accuracy_in = np.array(accuracy_in)\n",
    "accuracy_out = np.array(accuracy_out)\n",
    "accuracy_total = np.array(accuracy_total)\n",
    "diversity = np.array(diversity)\n",
    "\n",
    "plt.plot(diversity.argsort(),accuracy_in,'go');\n",
    "plt.plot(diversity.argsort(),accuracy_out,'ko');\n",
    "plt.plot(diversity.argsort(),accuracy_total,'bo');\n",
    "\n",
    "plt.title((accuracy_in.mean(),accuracy_total.mean()));"
   ]
  },
  {
   "cell_type": "code",
   "execution_count": 450,
   "metadata": {},
   "outputs": [],
   "source": [
    "# Save the results #\n",
    "batch_resultB = batch_result\n",
    "\n",
    "import pickle\n",
    "\n",
    "with open('data/batch_result_gs105a.pkl', 'wb') as picklefile:\n",
    "    pickle.dump(batch_resultB, picklefile)"
   ]
  }
 ],
 "metadata": {
  "kernelspec": {
   "display_name": "Python 3",
   "language": "python",
   "name": "python3"
  },
  "language_info": {
   "codemirror_mode": {
    "name": "ipython",
    "version": 3
   },
   "file_extension": ".py",
   "mimetype": "text/x-python",
   "name": "python",
   "nbconvert_exporter": "python",
   "pygments_lexer": "ipython3",
   "version": "3.6.6"
  }
 },
 "nbformat": 4,
 "nbformat_minor": 2
}

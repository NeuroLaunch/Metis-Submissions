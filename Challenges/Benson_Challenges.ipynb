{
 "cells": [
  {
   "cell_type": "markdown",
   "metadata": {},
   "source": [
    "### Topic:        __Week 01: Challenges 1-10\n",
    "Subject:      Explore MTA turnstile data  \n",
    "Date:         09/30/2010  \n",
    "Name:         Steven Bierer  \n",
    "Worked with:  Alex, Gretta, Shwetha (and h/t Dan the TA)"
   ]
  },
  {
   "cell_type": "markdown",
   "metadata": {},
   "source": [
    "## Challenge 1"
   ]
  },
  {
   "cell_type": "code",
   "execution_count": 25,
   "metadata": {},
   "outputs": [],
   "source": [
    "import pandas as pd\n",
    "import numpy as np"
   ]
  },
  {
   "cell_type": "code",
   "execution_count": 3,
   "metadata": {},
   "outputs": [
    {
     "name": "stdout",
     "output_type": "stream",
     "text": [
      "Opening file turnstile_180825.csv\n",
      "Opening file turnstile_180901.csv\n",
      "Opening file turnstile_180908.csv\n"
     ]
    }
   ],
   "source": [
    "# Download turnstile .csv files (done) and load some up #\n",
    "TURNSTILE_PATH = 'supporting_files/'\n",
    "TURNSTILE_FILES = ['turnstile_180825','turnstile_180901','turnstile_180908']\n",
    "turnstile_files = [TURNSTILE_PATH + x + '.csv' for x in TURNSTILE_FILES]\n",
    "\n",
    "tflist = []\n",
    "for tf in turnstile_files:\n",
    "    print(f'Opening file {tf[-20:]}')\n",
    "    df = pd.read_csv(tf, index_col=None, header=0)\n",
    "    tflist.append(df)\n",
    "#     try:\n",
    "#         df = pd.read_csv(tf, index_col=None, header=0)\n",
    "#         tflist.append(df)\n",
    "#     except:\n",
    "#         print(f'  Trouble accessing file -> skipping.')\n",
    "df = pd.concat(tflist)"
   ]
  },
  {
   "cell_type": "code",
   "execution_count": 4,
   "metadata": {},
   "outputs": [
    {
     "data": {
      "text/html": [
       "<div>\n",
       "<style scoped>\n",
       "    .dataframe tbody tr th:only-of-type {\n",
       "        vertical-align: middle;\n",
       "    }\n",
       "\n",
       "    .dataframe tbody tr th {\n",
       "        vertical-align: top;\n",
       "    }\n",
       "\n",
       "    .dataframe thead th {\n",
       "        text-align: right;\n",
       "    }\n",
       "</style>\n",
       "<table border=\"1\" class=\"dataframe\">\n",
       "  <thead>\n",
       "    <tr style=\"text-align: right;\">\n",
       "      <th></th>\n",
       "      <th>C/A</th>\n",
       "      <th>UNIT</th>\n",
       "      <th>SCP</th>\n",
       "      <th>STATION</th>\n",
       "      <th>LINENAME</th>\n",
       "      <th>DIVISION</th>\n",
       "      <th>DATE</th>\n",
       "      <th>TIME</th>\n",
       "      <th>DESC</th>\n",
       "      <th>ENTRIES</th>\n",
       "      <th>EXITS</th>\n",
       "    </tr>\n",
       "  </thead>\n",
       "  <tbody>\n",
       "    <tr>\n",
       "      <th>0</th>\n",
       "      <td>A002</td>\n",
       "      <td>R051</td>\n",
       "      <td>02-00-00</td>\n",
       "      <td>59 ST</td>\n",
       "      <td>NQR456W</td>\n",
       "      <td>BMT</td>\n",
       "      <td>08/18/2018</td>\n",
       "      <td>00:00:00</td>\n",
       "      <td>REGULAR</td>\n",
       "      <td>6728354</td>\n",
       "      <td>2280604</td>\n",
       "    </tr>\n",
       "    <tr>\n",
       "      <th>1</th>\n",
       "      <td>A002</td>\n",
       "      <td>R051</td>\n",
       "      <td>02-00-00</td>\n",
       "      <td>59 ST</td>\n",
       "      <td>NQR456W</td>\n",
       "      <td>BMT</td>\n",
       "      <td>08/18/2018</td>\n",
       "      <td>04:00:00</td>\n",
       "      <td>REGULAR</td>\n",
       "      <td>6728373</td>\n",
       "      <td>2280609</td>\n",
       "    </tr>\n",
       "    <tr>\n",
       "      <th>2</th>\n",
       "      <td>A002</td>\n",
       "      <td>R051</td>\n",
       "      <td>02-00-00</td>\n",
       "      <td>59 ST</td>\n",
       "      <td>NQR456W</td>\n",
       "      <td>BMT</td>\n",
       "      <td>08/18/2018</td>\n",
       "      <td>08:00:00</td>\n",
       "      <td>REGULAR</td>\n",
       "      <td>6728388</td>\n",
       "      <td>2280634</td>\n",
       "    </tr>\n",
       "    <tr>\n",
       "      <th>3</th>\n",
       "      <td>A002</td>\n",
       "      <td>R051</td>\n",
       "      <td>02-00-00</td>\n",
       "      <td>59 ST</td>\n",
       "      <td>NQR456W</td>\n",
       "      <td>BMT</td>\n",
       "      <td>08/18/2018</td>\n",
       "      <td>12:00:00</td>\n",
       "      <td>REGULAR</td>\n",
       "      <td>6728469</td>\n",
       "      <td>2280669</td>\n",
       "    </tr>\n",
       "    <tr>\n",
       "      <th>4</th>\n",
       "      <td>A002</td>\n",
       "      <td>R051</td>\n",
       "      <td>02-00-00</td>\n",
       "      <td>59 ST</td>\n",
       "      <td>NQR456W</td>\n",
       "      <td>BMT</td>\n",
       "      <td>08/18/2018</td>\n",
       "      <td>16:00:00</td>\n",
       "      <td>REGULAR</td>\n",
       "      <td>6728665</td>\n",
       "      <td>2280681</td>\n",
       "    </tr>\n",
       "  </tbody>\n",
       "</table>\n",
       "</div>"
      ],
      "text/plain": [
       "    C/A  UNIT       SCP STATION LINENAME DIVISION        DATE      TIME  \\\n",
       "0  A002  R051  02-00-00   59 ST  NQR456W      BMT  08/18/2018  00:00:00   \n",
       "1  A002  R051  02-00-00   59 ST  NQR456W      BMT  08/18/2018  04:00:00   \n",
       "2  A002  R051  02-00-00   59 ST  NQR456W      BMT  08/18/2018  08:00:00   \n",
       "3  A002  R051  02-00-00   59 ST  NQR456W      BMT  08/18/2018  12:00:00   \n",
       "4  A002  R051  02-00-00   59 ST  NQR456W      BMT  08/18/2018  16:00:00   \n",
       "\n",
       "      DESC  ENTRIES    EXITS  \n",
       "0  REGULAR  6728354  2280604  \n",
       "1  REGULAR  6728373  2280609  \n",
       "2  REGULAR  6728388  2280634  \n",
       "3  REGULAR  6728469  2280669  \n",
       "4  REGULAR  6728665  2280681  "
      ]
     },
     "execution_count": 4,
     "metadata": {},
     "output_type": "execute_result"
    }
   ],
   "source": [
    "# Examine a few rows of the resulting dataframe #\n",
    "df.columns = df.columns.str.replace(' ', '')   # clean the column names\n",
    "df.head()  # looks good!"
   ]
  },
  {
   "cell_type": "markdown",
   "metadata": {},
   "source": [
    "## Challenge 2"
   ]
  },
  {
   "cell_type": "code",
   "execution_count": 5,
   "metadata": {},
   "outputs": [
    {
     "data": {
      "text/html": [
       "<div>\n",
       "<style scoped>\n",
       "    .dataframe tbody tr th:only-of-type {\n",
       "        vertical-align: middle;\n",
       "    }\n",
       "\n",
       "    .dataframe tbody tr th {\n",
       "        vertical-align: top;\n",
       "    }\n",
       "\n",
       "    .dataframe thead th {\n",
       "        text-align: right;\n",
       "    }\n",
       "</style>\n",
       "<table border=\"1\" class=\"dataframe\">\n",
       "  <thead>\n",
       "    <tr style=\"text-align: right;\">\n",
       "      <th></th>\n",
       "      <th>C/A</th>\n",
       "      <th>UNIT</th>\n",
       "      <th>SCP</th>\n",
       "      <th>STATION</th>\n",
       "      <th>LINENAME</th>\n",
       "      <th>DIVISION</th>\n",
       "      <th>DATE</th>\n",
       "      <th>TIME</th>\n",
       "      <th>DESC</th>\n",
       "      <th>ENTRIES</th>\n",
       "      <th>EXITS</th>\n",
       "      <th>DATETIME</th>\n",
       "    </tr>\n",
       "  </thead>\n",
       "  <tbody>\n",
       "    <tr>\n",
       "      <th>0</th>\n",
       "      <td>A002</td>\n",
       "      <td>R051</td>\n",
       "      <td>02-00-00</td>\n",
       "      <td>59 ST</td>\n",
       "      <td>NQR456W</td>\n",
       "      <td>BMT</td>\n",
       "      <td>08/18/2018</td>\n",
       "      <td>00:00:00</td>\n",
       "      <td>REGULAR</td>\n",
       "      <td>6728354</td>\n",
       "      <td>2280604</td>\n",
       "      <td>2018-08-18 00:00:00</td>\n",
       "    </tr>\n",
       "    <tr>\n",
       "      <th>1</th>\n",
       "      <td>A002</td>\n",
       "      <td>R051</td>\n",
       "      <td>02-00-00</td>\n",
       "      <td>59 ST</td>\n",
       "      <td>NQR456W</td>\n",
       "      <td>BMT</td>\n",
       "      <td>08/18/2018</td>\n",
       "      <td>04:00:00</td>\n",
       "      <td>REGULAR</td>\n",
       "      <td>6728373</td>\n",
       "      <td>2280609</td>\n",
       "      <td>2018-08-18 04:00:00</td>\n",
       "    </tr>\n",
       "    <tr>\n",
       "      <th>2</th>\n",
       "      <td>A002</td>\n",
       "      <td>R051</td>\n",
       "      <td>02-00-00</td>\n",
       "      <td>59 ST</td>\n",
       "      <td>NQR456W</td>\n",
       "      <td>BMT</td>\n",
       "      <td>08/18/2018</td>\n",
       "      <td>08:00:00</td>\n",
       "      <td>REGULAR</td>\n",
       "      <td>6728388</td>\n",
       "      <td>2280634</td>\n",
       "      <td>2018-08-18 08:00:00</td>\n",
       "    </tr>\n",
       "    <tr>\n",
       "      <th>3</th>\n",
       "      <td>A002</td>\n",
       "      <td>R051</td>\n",
       "      <td>02-00-00</td>\n",
       "      <td>59 ST</td>\n",
       "      <td>NQR456W</td>\n",
       "      <td>BMT</td>\n",
       "      <td>08/18/2018</td>\n",
       "      <td>12:00:00</td>\n",
       "      <td>REGULAR</td>\n",
       "      <td>6728469</td>\n",
       "      <td>2280669</td>\n",
       "      <td>2018-08-18 12:00:00</td>\n",
       "    </tr>\n",
       "    <tr>\n",
       "      <th>4</th>\n",
       "      <td>A002</td>\n",
       "      <td>R051</td>\n",
       "      <td>02-00-00</td>\n",
       "      <td>59 ST</td>\n",
       "      <td>NQR456W</td>\n",
       "      <td>BMT</td>\n",
       "      <td>08/18/2018</td>\n",
       "      <td>16:00:00</td>\n",
       "      <td>REGULAR</td>\n",
       "      <td>6728665</td>\n",
       "      <td>2280681</td>\n",
       "      <td>2018-08-18 16:00:00</td>\n",
       "    </tr>\n",
       "  </tbody>\n",
       "</table>\n",
       "</div>"
      ],
      "text/plain": [
       "    C/A  UNIT       SCP STATION LINENAME DIVISION        DATE      TIME  \\\n",
       "0  A002  R051  02-00-00   59 ST  NQR456W      BMT  08/18/2018  00:00:00   \n",
       "1  A002  R051  02-00-00   59 ST  NQR456W      BMT  08/18/2018  04:00:00   \n",
       "2  A002  R051  02-00-00   59 ST  NQR456W      BMT  08/18/2018  08:00:00   \n",
       "3  A002  R051  02-00-00   59 ST  NQR456W      BMT  08/18/2018  12:00:00   \n",
       "4  A002  R051  02-00-00   59 ST  NQR456W      BMT  08/18/2018  16:00:00   \n",
       "\n",
       "      DESC  ENTRIES    EXITS            DATETIME  \n",
       "0  REGULAR  6728354  2280604 2018-08-18 00:00:00  \n",
       "1  REGULAR  6728373  2280609 2018-08-18 04:00:00  \n",
       "2  REGULAR  6728388  2280634 2018-08-18 08:00:00  \n",
       "3  REGULAR  6728469  2280669 2018-08-18 12:00:00  \n",
       "4  REGULAR  6728665  2280681 2018-08-18 16:00:00  "
      ]
     },
     "execution_count": 5,
     "metadata": {},
     "output_type": "execute_result"
    }
   ],
   "source": [
    "# Add a column holding formatted date-time objects\n",
    "df_dtstring = df['DATE'] + ' ' + df['TIME']\n",
    "df['DATETIME'] = pd.to_datetime(df_dtstring, format=\"%m/%d/%Y %H:%M:%S\")\n",
    "\n",
    "df.head()"
   ]
  },
  {
   "cell_type": "markdown",
   "metadata": {},
   "source": [
    "## Challenge 3"
   ]
  },
  {
   "cell_type": "code",
   "execution_count": 6,
   "metadata": {},
   "outputs": [
    {
     "name": "stdout",
     "output_type": "stream",
     "text": [
      "         C/A  UNIT       SCP        DATE  ENTRY_DIFF\n",
      "0       A002  R051  02-00-00  08/18/2018       616.0\n",
      "1       A002  R051  02-00-00  08/19/2018       509.0\n",
      "2       A002  R051  02-00-00  08/20/2018      1293.0\n",
      "3       A002  R051  02-00-00  08/21/2018      1298.0\n",
      "4       A002  R051  02-00-00  08/22/2018      1376.0\n",
      "5       A002  R051  02-00-00  08/23/2018      1322.0\n",
      "6       A002  R051  02-00-00  08/24/2018      1299.0\n",
      "7       A002  R051  02-00-00  08/25/2018       616.0\n",
      "8       A002  R051  02-00-00  08/26/2018       453.0\n",
      "9       A002  R051  02-00-00  08/27/2018      1294.0\n",
      "10      A002  R051  02-00-00  08/28/2018      1374.0\n",
      "11      A002  R051  02-00-00  08/29/2018      1261.0\n",
      "12      A002  R051  02-00-00  08/30/2018      1332.0\n",
      "13      A002  R051  02-00-00  08/31/2018      1339.0\n",
      "14      A002  R051  02-00-00  09/01/2018       711.0\n",
      "15      A002  R051  02-00-00  09/02/2018       530.0\n",
      "16      A002  R051  02-00-00  09/03/2018       589.0\n",
      "17      A002  R051  02-00-00  09/04/2018      1281.0\n",
      "18      A002  R051  02-00-00  09/05/2018      1391.0\n",
      "19      A002  R051  02-00-00  09/06/2018      1440.0\n",
      "20      A002  R051  02-00-00  09/07/2018      1241.0\n",
      "21      A002  R051  02-00-01  08/18/2018       600.0\n",
      "22      A002  R051  02-00-01  08/19/2018       441.0\n",
      "23      A002  R051  02-00-01  08/20/2018      1002.0\n",
      "24      A002  R051  02-00-01  08/21/2018      1014.0\n",
      "25      A002  R051  02-00-01  08/22/2018      1053.0\n",
      "26      A002  R051  02-00-01  08/23/2018      1048.0\n",
      "27      A002  R051  02-00-01  08/24/2018      1067.0\n",
      "28      A002  R051  02-00-01  08/25/2018       564.0\n",
      "29      A002  R051  02-00-01  08/26/2018       433.0\n",
      "...      ...   ...       ...         ...         ...\n",
      "96848  TRAM2  R469  00-05-00  08/30/2018         0.0\n",
      "96849  TRAM2  R469  00-05-00  08/31/2018         0.0\n",
      "96850  TRAM2  R469  00-05-00  09/01/2018         0.0\n",
      "96851  TRAM2  R469  00-05-00  09/02/2018         0.0\n",
      "96852  TRAM2  R469  00-05-00  09/03/2018         0.0\n",
      "96853  TRAM2  R469  00-05-00  09/04/2018         1.0\n",
      "96854  TRAM2  R469  00-05-00  09/05/2018         1.0\n",
      "96855  TRAM2  R469  00-05-00  09/06/2018         1.0\n",
      "96856  TRAM2  R469  00-05-00  09/07/2018         0.0\n",
      "96857  TRAM2  R469  00-05-01  08/18/2018         0.0\n",
      "96858  TRAM2  R469  00-05-01  08/19/2018         0.0\n",
      "96859  TRAM2  R469  00-05-01  08/20/2018         0.0\n",
      "96860  TRAM2  R469  00-05-01  08/21/2018         0.0\n",
      "96861  TRAM2  R469  00-05-01  08/22/2018         0.0\n",
      "96862  TRAM2  R469  00-05-01  08/23/2018         0.0\n",
      "96863  TRAM2  R469  00-05-01  08/24/2018         0.0\n",
      "96864  TRAM2  R469  00-05-01  08/25/2018         0.0\n",
      "96865  TRAM2  R469  00-05-01  08/26/2018         0.0\n",
      "96866  TRAM2  R469  00-05-01  08/27/2018         0.0\n",
      "96867  TRAM2  R469  00-05-01  08/28/2018         0.0\n",
      "96868  TRAM2  R469  00-05-01  08/29/2018         0.0\n",
      "96869  TRAM2  R469  00-05-01  08/30/2018         0.0\n",
      "96870  TRAM2  R469  00-05-01  08/31/2018         0.0\n",
      "96871  TRAM2  R469  00-05-01  09/01/2018         0.0\n",
      "96872  TRAM2  R469  00-05-01  09/02/2018         0.0\n",
      "96873  TRAM2  R469  00-05-01  09/03/2018         0.0\n",
      "96874  TRAM2  R469  00-05-01  09/04/2018         0.0\n",
      "96875  TRAM2  R469  00-05-01  09/05/2018         0.0\n",
      "96876  TRAM2  R469  00-05-01  09/06/2018         0.0\n",
      "96877  TRAM2  R469  00-05-01  09/07/2018         0.0\n",
      "\n",
      "[96878 rows x 5 columns]\n"
     ]
    }
   ],
   "source": [
    "# Calculate per-day entries for individual turnstiles (defined by C/A, UNIT, SCP columns) #\n",
    "# Note: The time increments for a turnstile is 4 hours.\n",
    "TSUNIT = ['C/A', 'UNIT', 'SCP']  # STATION not strictly necessary to define a turnstile device\n",
    "\n",
    "# Sort the data by turnstile unit and date, then calculate ongoing differences #\n",
    "# df.sort_values(by=['STATION', 'C/A', 'UNIT', 'SCP', 'DATETIME'], inplace=True)\n",
    "df.sort_values(by=TSUNIT + ['DATE'], inplace=True)\n",
    "                            # the -1's set the 0-time ref point to the START of a time block\n",
    "df['ENTRY_DIFF'] = (df.groupby(TSUNIT)['ENTRIES'].diff(periods=-1)) * -1\n",
    "df['EXIT_DIFF'] = (df.groupby(TSUNIT)['EXITS'].diff(periods=-1)) * -1\n",
    "\n",
    "# Filter to remove counter-reset events #\n",
    "df = df[(df['ENTRY_DIFF'] >= 0)\n",
    "        & (df['ENTRY_DIFF'] < 100000)\n",
    "        & (df['EXIT_DIFF'] >= 0)\n",
    "        & (df['EXIT_DIFF'] < 100000)]\n",
    "\n",
    "# Sum across days (using the 'DATE' column rather than 'DATETIME') #\n",
    "df_daily = df.groupby(TSUNIT + ['DATE'])['ENTRY_DIFF'].sum().reset_index()\n",
    "print(df_daily)"
   ]
  },
  {
   "cell_type": "markdown",
   "metadata": {},
   "source": [
    "## Challenge 4"
   ]
  },
  {
   "cell_type": "code",
   "execution_count": 7,
   "metadata": {},
   "outputs": [],
   "source": [
    "import matplotlib.pyplot as plt\n",
    "\n",
    "%config InlineBackend.figure_format = 'png'\n",
    "%matplotlib inline"
   ]
  },
  {
   "cell_type": "code",
   "execution_count": 8,
   "metadata": {},
   "outputs": [
    {
     "data": {
      "image/png": "[encoded data removed]",
      "text/plain": [
       "<Figure size 432x288 with 1 Axes>"
      ]
     },
     "metadata": {
      "needs_background": "light"
     },
     "output_type": "display_data"
    }
   ],
   "source": [
    "# Plot entries for one turnstile as a function of time #\n",
    "# Note, additional filtering would be required if the .csv turnstile data files\n",
    "# were not contiguous in time!\n",
    "device = ['A002', 'R051', '02-00-00']\n",
    "df_device = df_daily[(df_daily['C/A']==device[0])\n",
    "                     & (df_daily['UNIT'] == device[1])\n",
    "                     & (df_daily['SCP'] == device[2])]\n",
    "\n",
    "xx = df_device.DATE\n",
    "yy = df_device.ENTRY_DIFF\n",
    "\n",
    "plt.plot(xx, yy);\n",
    "plt.xticks(range(0, len(xx), 2),df_device.DATE[::2], rotation=90);\n",
    "plt.xlabel('Date'); plt.ylabel('Count'); plt.title('Single Turnstile');"
   ]
  },
  {
   "cell_type": "markdown",
   "metadata": {},
   "source": [
    "## Challenge 5"
   ]
  },
  {
   "cell_type": "code",
   "execution_count": 9,
   "metadata": {},
   "outputs": [
    {
     "name": "stdout",
     "output_type": "stream",
     "text": [
      "         C/A  UNIT        DATE  ENTRY_DIFF\n",
      "0       A002  R051  08/18/2018      7819.0\n",
      "1       A002  R051  08/19/2018      6263.0\n",
      "2       A002  R051  08/20/2018     11757.0\n",
      "3       A002  R051  08/21/2018     12459.0\n",
      "4       A002  R051  08/22/2018     12734.0\n",
      "5       A002  R051  08/23/2018     12670.0\n",
      "6       A002  R051  08/24/2018     12132.0\n",
      "7       A002  R051  08/25/2018      7244.0\n",
      "8       A002  R051  08/26/2018      5573.0\n",
      "9       A002  R051  08/27/2018     11891.0\n",
      "10      A002  R051  08/28/2018     12191.0\n",
      "11      A002  R051  08/29/2018     12388.0\n",
      "12      A002  R051  08/30/2018     12437.0\n",
      "13      A002  R051  08/31/2018     11823.0\n",
      "14      A002  R051  09/01/2018      7619.0\n",
      "15      A002  R051  09/02/2018      6061.0\n",
      "16      A002  R051  09/03/2018      5898.0\n",
      "17      A002  R051  09/04/2018     11799.0\n",
      "18      A002  R051  09/05/2018     12801.0\n",
      "19      A002  R051  09/06/2018     13076.0\n",
      "20      A002  R051  09/07/2018     11298.0\n",
      "21      A006  R079  08/18/2018      5720.0\n",
      "22      A006  R079  08/19/2018      4833.0\n",
      "23      A006  R079  08/20/2018     11100.0\n",
      "24      A006  R079  08/21/2018     11945.0\n",
      "25      A006  R079  08/22/2018     11914.0\n",
      "26      A006  R079  08/23/2018     11997.0\n",
      "27      A006  R079  08/24/2018     10733.0\n",
      "28      A006  R079  08/25/2018      6329.0\n",
      "29      A006  R079  08/26/2018      4983.0\n",
      "...      ...   ...         ...         ...\n",
      "15129   S102  R165  08/30/2018       738.0\n",
      "15130   S102  R165  08/31/2018       704.0\n",
      "15131   S102  R165  09/01/2018       481.0\n",
      "15132   S102  R165  09/02/2018       347.0\n",
      "15133   S102  R165  09/03/2018       301.0\n",
      "15134   S102  R165  09/04/2018       714.0\n",
      "15135   S102  R165  09/05/2018       814.0\n",
      "15136   S102  R165  09/06/2018       793.0\n",
      "15137   S102  R165  09/07/2018       750.0\n",
      "15138  TRAM2  R469  08/18/2018      6015.0\n",
      "15139  TRAM2  R469  08/19/2018      5324.0\n",
      "15140  TRAM2  R469  08/20/2018      3358.0\n",
      "15141  TRAM2  R469  08/21/2018      3432.0\n",
      "15142  TRAM2  R469  08/22/2018      3546.0\n",
      "15143  TRAM2  R469  08/23/2018      3704.0\n",
      "15144  TRAM2  R469  08/24/2018      3695.0\n",
      "15145  TRAM2  R469  08/25/2018      4416.0\n",
      "15146  TRAM2  R469  08/26/2018      3931.0\n",
      "15147  TRAM2  R469  08/27/2018      3372.0\n",
      "15148  TRAM2  R469  08/28/2018      2985.0\n",
      "15149  TRAM2  R469  08/29/2018      2896.0\n",
      "15150  TRAM2  R469  08/30/2018      3405.0\n",
      "15151  TRAM2  R469  08/31/2018      3309.0\n",
      "15152  TRAM2  R469  09/01/2018      3925.0\n",
      "15153  TRAM2  R469  09/02/2018      4080.0\n",
      "15154  TRAM2  R469  09/03/2018      3404.0\n",
      "15155  TRAM2  R469  09/04/2018      2837.0\n",
      "15156  TRAM2  R469  09/05/2018      2934.0\n",
      "15157  TRAM2  R469  09/06/2018      2961.0\n",
      "15158  TRAM2  R469  09/07/2018      3002.0\n",
      "\n",
      "[15159 rows x 4 columns]\n"
     ]
    }
   ],
   "source": [
    "# Now sum across SCP devices within a station-control area-unit group #\n",
    "df_daily_unit = df.groupby(['C/A','UNIT','DATE'])['ENTRY_DIFF'].sum().reset_index()\n",
    "                # note: this could also be done with df_daily.groupby()\n",
    "print(df_daily_unit)"
   ]
  },
  {
   "cell_type": "markdown",
   "metadata": {},
   "source": [
    "## Challenge 6"
   ]
  },
  {
   "cell_type": "code",
   "execution_count": 10,
   "metadata": {},
   "outputs": [
    {
     "name": "stdout",
     "output_type": "stream",
     "text": [
      "        STATION        DATE  ENTRY_DIFF\n",
      "0          1 AV  08/18/2018     12719.0\n",
      "1          1 AV  08/19/2018     10274.0\n",
      "2          1 AV  08/20/2018     17181.0\n",
      "3          1 AV  08/21/2018     18318.0\n",
      "4          1 AV  08/22/2018     18776.0\n",
      "5          1 AV  08/23/2018     18905.0\n",
      "6          1 AV  08/24/2018     19781.0\n",
      "7          1 AV  08/25/2018     14533.0\n",
      "8          1 AV  08/26/2018     12019.0\n",
      "9          1 AV  08/27/2018     17354.0\n",
      "10         1 AV  08/28/2018     17946.0\n",
      "11         1 AV  08/29/2018     18479.0\n",
      "12         1 AV  08/30/2018     18438.0\n",
      "13         1 AV  08/31/2018     18878.0\n",
      "14         1 AV  09/01/2018     14045.0\n",
      "15         1 AV  09/02/2018     11843.0\n",
      "16         1 AV  09/03/2018     10059.0\n",
      "17         1 AV  09/04/2018     17936.0\n",
      "18         1 AV  09/05/2018     21049.0\n",
      "19         1 AV  09/06/2018     21510.0\n",
      "20         1 AV  09/07/2018     18647.0\n",
      "21       103 ST  08/18/2018     17262.0\n",
      "22       103 ST  08/19/2018     14011.0\n",
      "23       103 ST  08/20/2018     27697.0\n",
      "24       103 ST  08/21/2018     28469.0\n",
      "25       103 ST  08/22/2018     29313.0\n",
      "26       103 ST  08/23/2018     29482.0\n",
      "27       103 ST  08/24/2018     28889.0\n",
      "28       103 ST  08/25/2018     12835.0\n",
      "29       103 ST  08/26/2018      9618.0\n",
      "...         ...         ...         ...\n",
      "7801    YORK ST  08/30/2018     11200.0\n",
      "7802    YORK ST  08/31/2018      9180.0\n",
      "7803    YORK ST  09/01/2018      5476.0\n",
      "7804    YORK ST  09/02/2018      6089.0\n",
      "7805    YORK ST  09/03/2018      4786.0\n",
      "7806    YORK ST  09/04/2018     10320.0\n",
      "7807    YORK ST  09/05/2018     10720.0\n",
      "7808    YORK ST  09/06/2018     10973.0\n",
      "7809    YORK ST  09/07/2018     10342.0\n",
      "7810  ZEREGA AV  08/18/2018      1182.0\n",
      "7811  ZEREGA AV  08/19/2018       914.0\n",
      "7812  ZEREGA AV  08/20/2018      2345.0\n",
      "7813  ZEREGA AV  08/21/2018      2233.0\n",
      "7814  ZEREGA AV  08/22/2018      2375.0\n",
      "7815  ZEREGA AV  08/23/2018      2522.0\n",
      "7816  ZEREGA AV  08/24/2018      2385.0\n",
      "7817  ZEREGA AV  08/25/2018      1260.0\n",
      "7818  ZEREGA AV  08/26/2018       991.0\n",
      "7819  ZEREGA AV  08/27/2018      2389.0\n",
      "7820  ZEREGA AV  08/28/2018      2511.0\n",
      "7821  ZEREGA AV  08/29/2018      2494.0\n",
      "7822  ZEREGA AV  08/30/2018      2506.0\n",
      "7823  ZEREGA AV  08/31/2018      2381.0\n",
      "7824  ZEREGA AV  09/01/2018      1287.0\n",
      "7825  ZEREGA AV  09/02/2018       994.0\n",
      "7826  ZEREGA AV  09/03/2018      1017.0\n",
      "7827  ZEREGA AV  09/04/2018      2499.0\n",
      "7828  ZEREGA AV  09/05/2018      2781.0\n",
      "7829  ZEREGA AV  09/06/2018      2895.0\n",
      "7830  ZEREGA AV  09/07/2018      2670.0\n",
      "\n",
      "[7831 rows x 3 columns]\n"
     ]
    }
   ],
   "source": [
    "# Now sum across the groups within a station #\n",
    "df_daily_station = df.groupby(['STATION','DATE'])['ENTRY_DIFF'].sum().reset_index()\n",
    "\n",
    "print(df_daily_station)"
   ]
  },
  {
   "cell_type": "markdown",
   "metadata": {},
   "source": [
    "## Challenge 7"
   ]
  },
  {
   "cell_type": "code",
   "execution_count": 11,
   "metadata": {},
   "outputs": [
    {
     "data": {
      "image/png": "[encoded data removed]",
      "text/plain": [
       "<Figure size 432x288 with 1 Axes>"
      ]
     },
     "metadata": {
      "needs_background": "light"
     },
     "output_type": "display_data"
    }
   ],
   "source": [
    "# Plot entries for one station as a function of time #\n",
    "station = 'YORK ST'\n",
    "df_station = df_daily_station[df_daily_station['STATION']==station]\n",
    "\n",
    "xx = df_station.DATE\n",
    "yy = df_station.ENTRY_DIFF\n",
    "\n",
    "plt.plot(xx, yy);\n",
    "plt.xticks(range(0, len(xx), 2),df_device.DATE[::2], rotation=90);\n",
    "plt.xlabel('Date'); plt.ylabel('Count'); plt.title(f'{station} station');"
   ]
  },
  {
   "cell_type": "markdown",
   "metadata": {},
   "source": [
    "## Challenge 8  -  stuck plotting by-week counts contained in arrays"
   ]
  },
  {
   "cell_type": "code",
   "execution_count": 12,
   "metadata": {},
   "outputs": [
    {
     "name": "stderr",
     "output_type": "stream",
     "text": [
      "/Users/neuromac/anaconda3/lib/python3.6/site-packages/ipykernel_launcher.py:5: SettingWithCopyWarning: \n",
      "A value is trying to be set on a copy of a slice from a DataFrame.\n",
      "Try using .loc[row_indexer,col_indexer] = value instead\n",
      "\n",
      "See the caveats in the documentation: http://pandas.pydata.org/pandas-docs/stable/indexing.html#indexing-view-versus-copy\n",
      "  \"\"\"\n"
     ]
    }
   ],
   "source": [
    "# Add a column for day of week to the single-station dataframe #\n",
    "temp = pd.to_datetime(df_station['DATE'],\n",
    "                            format=\"%m/%d/%Y\").dt.dayofweek   # Monday = 0, etc\n",
    "\n",
    "df_station['DAY'] = list(temp)"
   ]
  },
  {
   "cell_type": "code",
   "execution_count": 53,
   "metadata": {},
   "outputs": [
    {
     "name": "stdout",
     "output_type": "stream",
     "text": [
      "[[0 1 2 3 4 5 6]]\n",
      "[[   nan    nan    nan    nan    nan  3992.  3290.]\n",
      " [10705. 11637. 11457. 12085. 11104.  5186.  4410.]\n",
      " [10742. 10732. 10717. 11200.  9180.  5476.  6089.]\n",
      " [ 4786. 10320. 10720. 10973. 10342.    nan    nan]]\n"
     ]
    }
   ],
   "source": [
    "# Accrue daily counts for multiple weeks for the chosen station #\n",
    "nn, mm = list(df_station['ENTRY_DIFF']), list(df_station['DAY'])\n",
    "\n",
    "xx = np.arange(0,7); xx = np.reshape(xx,[1,7])\n",
    "yy0 = xx * np.nan    # create a single-week empty array\n",
    "yy = yy0.copy()\n",
    "\n",
    "_row = 0             # fill in array to store by-week ridership data\n",
    "for i in range(0,len(nn)):  # note: partial weeks are retained\n",
    "    yy[_row,mm[i]] = nn[i]\n",
    "    if mm[i]==6:\n",
    "        yy = np.append(yy,yy0,axis=0)\n",
    "        _row += 1    # add on extra weeks as data is encountered\n",
    "\n",
    "print(xx)            # the arrays look just like intended! this allows partial weeks\n",
    "print(yy)"
   ]
  },
  {
   "cell_type": "code",
   "execution_count": 79,
   "metadata": {
    "scrolled": true
   },
   "outputs": [
    {
     "data": {
      "image/png": "[encoded data removed]",
      "text/plain": [
       "<Figure size 432x288 with 1 Axes>"
      ]
     },
     "metadata": {
      "needs_background": "light"
     },
     "output_type": "display_data"
    }
   ],
   "source": [
    "# Try to plot the daily counts across each week - unfortunately lines won't render #\n",
    "COLOR_ORDER = ['k','b','r','g']\n",
    "for i in range(0,len(yy)):\n",
    "    plt.plot(xx,yy[i,:].reshape([1,7]),'o',color=COLOR_ORDER[i]);  # markers show up fine, however\n",
    "plt.show;\n",
    "plt.legend(['Week1','Week2','Week3','Week4'],loc=0);"
   ]
  },
  {
   "cell_type": "markdown",
   "metadata": {},
   "source": [
    "## Challenge 9"
   ]
  },
  {
   "cell_type": "code",
   "execution_count": 43,
   "metadata": {},
   "outputs": [
    {
     "data": {
      "text/html": [
       "<div>\n",
       "<style scoped>\n",
       "    .dataframe tbody tr th:only-of-type {\n",
       "        vertical-align: middle;\n",
       "    }\n",
       "\n",
       "    .dataframe tbody tr th {\n",
       "        vertical-align: top;\n",
       "    }\n",
       "\n",
       "    .dataframe thead th {\n",
       "        text-align: right;\n",
       "    }\n",
       "</style>\n",
       "<table border=\"1\" class=\"dataframe\">\n",
       "  <thead>\n",
       "    <tr style=\"text-align: right;\">\n",
       "      <th></th>\n",
       "      <th>STATION</th>\n",
       "      <th>ENTRY_DIFF</th>\n",
       "    </tr>\n",
       "  </thead>\n",
       "  <tbody>\n",
       "    <tr>\n",
       "      <th>59</th>\n",
       "      <td>34 ST-PENN STA</td>\n",
       "      <td>2734989.0</td>\n",
       "    </tr>\n",
       "    <tr>\n",
       "      <th>229</th>\n",
       "      <td>GRD CNTRL-42 ST</td>\n",
       "      <td>2351853.0</td>\n",
       "    </tr>\n",
       "    <tr>\n",
       "      <th>57</th>\n",
       "      <td>34 ST-HERALD SQ</td>\n",
       "      <td>1867932.0</td>\n",
       "    </tr>\n",
       "    <tr>\n",
       "      <th>14</th>\n",
       "      <td>14 ST-UNION SQ</td>\n",
       "      <td>1753930.0</td>\n",
       "    </tr>\n",
       "    <tr>\n",
       "      <th>348</th>\n",
       "      <td>TIMES SQ-42 ST</td>\n",
       "      <td>1748572.0</td>\n",
       "    </tr>\n",
       "  </tbody>\n",
       "</table>\n",
       "</div>"
      ],
      "text/plain": [
       "             STATION  ENTRY_DIFF\n",
       "59    34 ST-PENN STA   2734989.0\n",
       "229  GRD CNTRL-42 ST   2351853.0\n",
       "57   34 ST-HERALD SQ   1867932.0\n",
       "14    14 ST-UNION SQ   1753930.0\n",
       "348   TIMES SQ-42 ST   1748572.0"
      ]
     },
     "execution_count": 43,
     "metadata": {},
     "output_type": "execute_result"
    }
   ],
   "source": [
    "# Sum across all dates to get the final station ranking #\n",
    "df_total_station = df.groupby(['STATION'])['ENTRY_DIFF'].sum().reset_index()\n",
    "df_total_station.sort_values('ENTRY_DIFF',ascending=False,inplace=True)\n",
    "\n",
    "df_total_station.head()   # it looks like Pen Station at 34th St has the highest traffic"
   ]
  },
  {
   "cell_type": "markdown",
   "metadata": {},
   "source": [
    "## Challenge 10"
   ]
  },
  {
   "cell_type": "code",
   "execution_count": 44,
   "metadata": {},
   "outputs": [
    {
     "data": {
      "image/png": "[encoded data removed]",
      "text/plain": [
       "<Figure size 432x288 with 1 Axes>"
      ]
     },
     "metadata": {
      "needs_background": "light"
     },
     "output_type": "display_data"
    }
   ],
   "source": [
    "# Plot the ranked ridership data as a histogram #\n",
    "plt.hist(df_total_station['ENTRY_DIFF']/1e6);\n",
    "plt.xlabel('Total ridership (in millions)',fontsize=12);\n",
    "plt.ylabel('Number of stations',fontsize=12);"
   ]
  },
  {
   "cell_type": "code",
   "execution_count": null,
   "metadata": {},
   "outputs": [],
   "source": []
  }
 ],
 "metadata": {
  "kernelspec": {
   "display_name": "Python 3",
   "language": "python",
   "name": "python3"
  },
  "language_info": {
   "codemirror_mode": {
    "name": "ipython",
    "version": 3
   },
   "file_extension": ".py",
   "mimetype": "text/x-python",
   "name": "python",
   "nbconvert_exporter": "python",
   "pygments_lexer": "ipython3",
   "version": "3.6.6"
  }
 },
 "nbformat": 4,
 "nbformat_minor": 2
}
